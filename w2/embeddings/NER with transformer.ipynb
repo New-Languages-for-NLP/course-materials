{
 "cells": [
  {
   "cell_type": "code",
   "execution_count": null,
   "id": "b4db7d15",
   "metadata": {},
   "outputs": [],
   "source": [
    "!python -m spacy project clone template --repo https://github.com/your_org/your_repo"
   ]
  }
 ],
 "metadata": {
  "kernelspec": {
   "display_name": "Python 3 (ipykernel)",
   "language": "python",
   "name": "python3"
  },
  "language_info": {
   "codemirror_mode": {
    "name": "ipython",
    "version": 3
   },
   "file_extension": ".py",
   "mimetype": "text/x-python",
   "name": "python",
   "nbconvert_exporter": "python",
   "pygments_lexer": "ipython3",
   "version": "3.7.11"
  }
 },
 "nbformat": 4,
 "nbformat_minor": 5
}
