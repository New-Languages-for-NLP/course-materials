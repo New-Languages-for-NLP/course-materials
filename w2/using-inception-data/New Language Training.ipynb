{
 "cells": [
  {
   "cell_type": "markdown",
   "id": "061ba15a",
   "metadata": {},
   "source": [
    "This notebook: \n",
    "- Loads project file from GitHub\n",
    "- Loads assets from GitHub repo\n",
    "- installs the custom language object \n",
    "- converts the training data to spaCy binary\n",
    "- configure the project.yml file \n",
    "- train the model \n",
    "- assess performance \n",
    "- package the model (or push to huggingface) \n"
   ]
  },
  {
   "cell_type": "code",
   "execution_count": 4,
   "id": "a0ba9e5a",
   "metadata": {},
   "outputs": [],
   "source": [
    "# temp to clear project folder\n",
    "!rm -rf /srv/projects/course-materials/w2/using-inception-data/newlang_project\n"
   ]
  },
  {
   "cell_type": "code",
   "execution_count": 5,
   "id": "7c0bda8e",
   "metadata": {},
   "outputs": [
    {
     "name": "stdout",
     "output_type": "stream",
     "text": [
      "\u001b[38;5;2m✔ Cloned 'newlang_project' from New-Languages-for-NLP/repo-template\u001b[0m\n",
      "/srv/projects/course-materials/w2/using-inception-data/newlang_project\n",
      "\u001b[38;5;2m✔ Your project is now ready!\u001b[0m\n",
      "To fetch the assets, run:\n",
      "python -m spacy project assets /srv/projects/course-materials/w2/using-inception-data/newlang_project\n",
      "\u001b[38;5;4mℹ Fetching 1 asset(s)\u001b[0m\n",
      "\u001b[38;5;2m✔ Downloaded asset\n",
      "/srv/projects/course-materials/w2/using-inception-data/newlang_project/assets/urban-giggle\u001b[0m\n"
     ]
    }
   ],
   "source": [
    "private_repo = False #@param {type:\"boolean\"}\n",
    "repo_name = \"repo-template\" #@param {type:\"string\"}\n",
    "\n",
    "!rm -rf /content/newlang_project\n",
    "!rm -rf $repo_name\n",
    "if private_repo:\n",
    "    git_access_token = \"\" #@param {type:\"string\"}\n",
    "    git_url = f\"https://{git_access_token}@github.com/New-Languages-for-NLP/{repo_name}/\"\n",
    "    !git clone $git_url  -b main\n",
    "    !cp -r ./$repo_name/newlang_project .  \n",
    "    !mkdir newlang_project/assets/\n",
    "    !mkdir newlang_project/configs/\n",
    "    !mkdir newlang_project/corpus/\n",
    "    !mkdir newlang_project/metrics/\n",
    "    !mkdir newlang_project/packages/\n",
    "    !mkdir newlang_project/training/\n",
    "    !mkdir newlang_project/assets/$repo_name\n",
    "    !cp -r ./$repo_name/* newlang_project/assets/$repo_name/\n",
    "    !rm -rf ./$repo_name\n",
    "else:\n",
    "    !python -m spacy project clone newlang_project --repo https://github.com/New-Languages-for-NLP/$repo_name --branch main\n",
    "    !python -m spacy project assets /srv/projects/course-materials/w2/using-inception-data/newlang_project"
   ]
  },
  {
   "cell_type": "code",
   "execution_count": 6,
   "id": "4dc13741",
   "metadata": {},
   "outputs": [
    {
     "name": "stdout",
     "output_type": "stream",
     "text": [
      "\u001b[1m\n",
      "================================== install ==================================\u001b[0m\n",
      "Running command: rm -rf lang\n",
      "Running command: mkdir lang\n",
      "Running command: mkdir lang/yi\n",
      "Running command: cp -r assets/urban-giggle/2_new_language_object/ lang/yi/yi\n",
      "Running command: mv lang/yi/yi/setup.py lang/yi/\n",
      "Running command: /srv/projects/course-materials/w2/venv/bin/python -m pip install -e lang/yi\n",
      "Obtaining file:///srv/projects/course-materials/w2/using-inception-data/newlang_project/lang/yi\n",
      "Installing collected packages: yi\n",
      "  Attempting uninstall: yi\n",
      "    Found existing installation: yi 0.0.0\n",
      "    Uninstalling yi-0.0.0:\n",
      "      Successfully uninstalled yi-0.0.0\n",
      "  Running setup.py develop for yi\n",
      "Successfully installed yi\n"
     ]
    }
   ],
   "source": [
    "# Install the custom language object from Cadet \n",
    "!python -m spacy project run install /srv/projects/course-materials/w2/using-inception-data/newlang_project"
   ]
  },
  {
   "cell_type": "code",
   "execution_count": 2,
   "id": "be6828d6",
   "metadata": {},
   "outputs": [
    {
     "name": "stdout",
     "output_type": "stream",
     "text": [
      "\u001b[1m\n",
      "=================================== config ===================================\u001b[0m\n",
      "Running command: /srv/projects/course-materials/w2/venv/bin/python -m spacy init config config.cfg --lang yi -F\n",
      "\u001b[38;5;3m⚠ To generate a more effective transformer-based config (GPU-only),\n",
      "install the spacy-transformers package and re-run this command. The config\n",
      "generated now does not use transformers.\u001b[0m\n",
      "\u001b[38;5;4mℹ Generated config template specific for your use case\u001b[0m\n",
      "- Language: yi\n",
      "- Pipeline: tagger, parser, ner\n",
      "- Optimize for: efficiency\n",
      "- Hardware: CPU\n",
      "- Transformer: None\n",
      "\u001b[38;5;2m✔ Auto-filled config with all values\u001b[0m\n",
      "\u001b[38;5;2m✔ Saved config\u001b[0m\n",
      "config.cfg\n",
      "You can now add your data and train your pipeline:\n",
      "python -m spacy train config.cfg --paths.train ./train.spacy --paths.dev ./dev.spacy\n",
      "Running command: /srv/projects/course-materials/w2/venv/bin/python scripts/update_config.py urban-giggle false\n"
     ]
    }
   ],
   "source": [
    "# Create training config\n",
    "!python -m spacy project run config /srv/projects/course-materials/w2/using-inception-data/newlang_project"
   ]
  },
  {
   "cell_type": "code",
   "execution_count": 8,
   "id": "563fdc94",
   "metadata": {},
   "outputs": [
    {
     "name": "stdout",
     "output_type": "stream",
     "text": [
      "\u001b[1m\n",
      "================================== convert ==================================\u001b[0m\n",
      "Running command: mkdir -p ./corpus/conllu\n",
      "Running command: mkdir -p ./corpus/conll\n",
      "Running command: mkdir -p ./corpus/converted\n",
      "Running command: /srv/projects/course-materials/w2/venv/bin/python scripts/convert.py assets/urban-giggle/3_inception_export 10 yi\n",
      "\u001b[38;5;4mℹ Grouping every 10 sentences into a document.\u001b[0m\n",
      "\u001b[38;5;2m✔ Generated output file (108 documents):\n",
      "corpus/converted/cu_proiel-ud-dev.spacy\u001b[0m\n",
      "\u001b[38;5;4mℹ Grouping every 10 sentences into a document.\u001b[0m\n",
      "\u001b[38;5;2m✔ Generated output file (115 documents):\n",
      "corpus/converted/cu_proiel-ud-test.spacy\u001b[0m\n",
      "\u001b[38;5;4mℹ Grouping every 10 sentences into a document.\u001b[0m\n",
      "\u001b[38;5;2m✔ Generated output file (413 documents):\n",
      "corpus/converted/cu_proiel-ud-train.spacy\u001b[0m\n",
      "\u001b[38;5;4mℹ Grouping every 10 sentences into a document.\u001b[0m\n",
      "Traceback (most recent call last):\n",
      "  File \"/usr/lib/python3.8/runpy.py\", line 194, in _run_module_as_main\n",
      "    return _run_code(code, main_globals, None,\n",
      "  File \"/usr/lib/python3.8/runpy.py\", line 87, in _run_code\n",
      "    exec(code, run_globals)\n",
      "  File \"/srv/projects/course-materials/w2/venv/lib/python3.8/site-packages/spacy/__main__.py\", line 4, in <module>\n",
      "    setup_cli()\n",
      "  File \"/srv/projects/course-materials/w2/venv/lib/python3.8/site-packages/spacy/cli/_util.py\", line 71, in setup_cli\n",
      "    command(prog_name=COMMAND)\n",
      "  File \"/srv/projects/course-materials/w2/venv/lib/python3.8/site-packages/click/core.py\", line 829, in __call__\n",
      "    return self.main(*args, **kwargs)\n",
      "  File \"/srv/projects/course-materials/w2/venv/lib/python3.8/site-packages/click/core.py\", line 782, in main\n",
      "    rv = self.invoke(ctx)\n",
      "  File \"/srv/projects/course-materials/w2/venv/lib/python3.8/site-packages/click/core.py\", line 1259, in invoke\n",
      "    return _process_result(sub_ctx.command.invoke(sub_ctx))\n",
      "  File \"/srv/projects/course-materials/w2/venv/lib/python3.8/site-packages/click/core.py\", line 1066, in invoke\n",
      "    return ctx.invoke(self.callback, **ctx.params)\n",
      "  File \"/srv/projects/course-materials/w2/venv/lib/python3.8/site-packages/click/core.py\", line 610, in invoke\n",
      "    return callback(*args, **kwargs)\n",
      "  File \"/srv/projects/course-materials/w2/venv/lib/python3.8/site-packages/typer/main.py\", line 500, in wrapper\n",
      "    return callback(**use_params)  # type: ignore\n",
      "  File \"/srv/projects/course-materials/w2/venv/lib/python3.8/site-packages/spacy/cli/convert.py\", line 75, in convert_cli\n",
      "    convert(\n",
      "  File \"/srv/projects/course-materials/w2/venv/lib/python3.8/site-packages/spacy/cli/convert.py\", line 140, in convert\n",
      "    db = DocBin(docs=docs, store_user_data=True)\n",
      "  File \"/srv/projects/course-materials/w2/venv/lib/python3.8/site-packages/spacy/tokens/_serialize.py\", line 86, in __init__\n",
      "    for doc in docs:\n",
      "  File \"/srv/projects/course-materials/w2/venv/lib/python3.8/site-packages/spacy/training/converters/conllu_to_docs.py\", line 38, in conllu_to_docs\n",
      "    for sent_doc in sent_docs:\n",
      "  File \"/srv/projects/course-materials/w2/venv/lib/python3.8/site-packages/spacy/training/converters/conllu_to_docs.py\", line 79, in read_conllx\n",
      "    doc = conllu_sentence_to_doc(\n",
      "  File \"/srv/projects/course-materials/w2/venv/lib/python3.8/site-packages/spacy/training/converters/conllu_to_docs.py\", line 200, in conllu_sentence_to_doc\n",
      "    doc = Doc(\n",
      "  File \"spacy/tokens/doc.pyx\", line 296, in spacy.tokens.doc.Doc.__init__\n",
      "ValueError: [E1021] `pos` value \"_\" is not a valid Universal Dependencies tag. Non-UD tags should use the `tag` property.\n",
      "\u001b[38;5;4mℹ Grouping every 10 sentences into a document.\u001b[0m\n",
      "\u001b[38;5;2m✔ Generated output file (8 documents): corpus/conll/doggo.spacy\u001b[0m\n",
      "Traceback (most recent call last):\n",
      "  File \"scripts/convert.py\", line 63, in <module>\n",
      "    typer.run(convert)\n",
      "  File \"/srv/projects/course-materials/w2/venv/lib/python3.8/site-packages/typer/main.py\", line 864, in run\n",
      "    app()\n",
      "  File \"/srv/projects/course-materials/w2/venv/lib/python3.8/site-packages/typer/main.py\", line 214, in __call__\n",
      "    return get_command(self)(*args, **kwargs)\n",
      "  File \"/srv/projects/course-materials/w2/venv/lib/python3.8/site-packages/click/core.py\", line 829, in __call__\n",
      "    return self.main(*args, **kwargs)\n",
      "  File \"/srv/projects/course-materials/w2/venv/lib/python3.8/site-packages/click/core.py\", line 782, in main\n",
      "    rv = self.invoke(ctx)\n",
      "  File \"/srv/projects/course-materials/w2/venv/lib/python3.8/site-packages/click/core.py\", line 1066, in invoke\n",
      "    return ctx.invoke(self.callback, **ctx.params)\n",
      "  File \"/srv/projects/course-materials/w2/venv/lib/python3.8/site-packages/click/core.py\", line 610, in invoke\n",
      "    return callback(*args, **kwargs)\n",
      "  File \"/srv/projects/course-materials/w2/venv/lib/python3.8/site-packages/typer/main.py\", line 500, in wrapper\n",
      "    return callback(**use_params)  # type: ignore\n",
      "  File \"scripts/convert.py\", line 46, in convert\n",
      "    conllu_bin = DocBin().from_bytes(conllu_file.read_bytes())\n",
      "  File \"/usr/lib/python3.8/pathlib.py\", line 1229, in read_bytes\n",
      "    with self.open(mode='rb') as f:\n",
      "  File \"/usr/lib/python3.8/pathlib.py\", line 1222, in open\n",
      "    return io.open(self, mode, buffering, encoding, errors, newline,\n",
      "  File \"/usr/lib/python3.8/pathlib.py\", line 1078, in _opener\n",
      "    return self._accessor.open(self, flags, mode)\n",
      "FileNotFoundError: [Errno 2] No such file or directory: '/srv/projects/course-materials/w2/using-inception-data/newlang_project/corpus/converted/doggo.spacy'\n"
     ]
    }
   ],
   "source": [
    "# Convert the conllu files from inception to spaCy binary format\n",
    "# Currently requires edit to spacy/training/converters/conllu_to_docs.py line 194 \n",
    "# if pos == \"_\":                                                                                                                  \n",
    "#     pos = \"\"\n",
    "\n",
    "!python -m spacy project run convert /srv/projects/course-materials/w2/using-inception-data/newlang_project -F"
   ]
  },
  {
   "cell_type": "code",
   "execution_count": 3,
   "id": "9519c858",
   "metadata": {},
   "outputs": [
    {
     "name": "stdout",
     "output_type": "stream",
     "text": [
      "\u001b[1m\n",
      "=================================== split ===================================\u001b[0m\n",
      "Running command: /srv/projects/course-materials/w2/venv/bin/python scripts/split.py 0.2 11 yi\n",
      "🚂 Created 1017 training docs\n",
      "😊 Created 204 validation docs\n",
      "🧪  Created 51 test docs\n"
     ]
    }
   ],
   "source": [
    "# Read data files, convert to spaCy files\n",
    "# test/train split \n",
    "!python -m spacy project run split /srv/projects/course-materials/w2/using-inception-data/newlang_project -F"
   ]
  },
  {
   "cell_type": "code",
   "execution_count": 4,
   "id": "4feefe6f",
   "metadata": {},
   "outputs": [
    {
     "name": "stdout",
     "output_type": "stream",
     "text": [
      "\u001b[1m\n",
      "=================================== debug ===================================\u001b[0m\n",
      "Running command: /srv/projects/course-materials/w2/venv/bin/python -m spacy debug data ./config.cfg\n",
      "\u001b[1m\n",
      "============================ Data file validation ============================\u001b[0m\n",
      "\u001b[38;5;2m✔ Pipeline can be initialized with data\u001b[0m\n",
      "\u001b[38;5;2m✔ Corpus is loadable\u001b[0m\n",
      "\u001b[1m\n",
      "=============================== Training stats ===============================\u001b[0m\n",
      "Language: yi\n",
      "Training pipeline: tok2vec, tagger, parser, ner\n",
      "1017 training docs\n",
      "204 evaluation docs\n",
      "\u001b[38;5;3m⚠ 166 training examples also in evaluation data\u001b[0m\n",
      "\u001b[38;5;3m⚠ Low number of examples to train a new pipeline (1017)\u001b[0m\n",
      "\u001b[1m\n",
      "============================== Vocab & Vectors ==============================\u001b[0m\n",
      "\u001b[38;5;4mℹ 92587 total word(s) in the data (9854 unique)\u001b[0m\n",
      "\u001b[38;5;4mℹ No word vectors present in the package\u001b[0m\n",
      "\u001b[1m\n",
      "========================== Named Entity Recognition ==========================\u001b[0m\n",
      "\u001b[38;5;4mℹ 0 label(s)\u001b[0m\n",
      "0 missing value(s) (tokens with '-' label)\n",
      "\u001b[38;5;2m✔ Good amount of examples for all labels\u001b[0m\n",
      "\u001b[38;5;2m✔ Examples without occurrences available for all labels\u001b[0m\n",
      "\u001b[38;5;2m✔ No entities consisting of or starting/ending with whitespace\u001b[0m\n",
      "\u001b[1m\n",
      "=========================== Part-of-speech Tagging ===========================\u001b[0m\n",
      "\u001b[38;5;4mℹ 23 label(s) in train data\u001b[0m\n",
      "\u001b[1m\n",
      "============================= Dependency Parsing =============================\u001b[0m\n",
      "\u001b[38;5;4mℹ Found 10138 sentence(s) with an average length of 9.1 words.\u001b[0m\n",
      "\u001b[38;5;4mℹ Found 824 nonprojective train sentence(s)\u001b[0m\n",
      "\u001b[38;5;4mℹ 34 label(s) in train data\u001b[0m\n",
      "\u001b[38;5;4mℹ 208 label(s) in projectivized train data\u001b[0m\n",
      "\u001b[38;5;3m⚠ Low number of examples for label 'csubj:pass' (20)\u001b[0m\n",
      "\u001b[38;5;3m⚠ Low number of examples for label 'aux:pass' (2)\u001b[0m\n",
      "\u001b[38;5;3m⚠ Low number of examples for 146 label(s) in the projectivized\n",
      "dependency trees used for training. You may want to projectivize labels such as\n",
      "punct before training in order to improve parser performance.\u001b[0m\n",
      "\u001b[1m\n",
      "================================== Summary ==================================\u001b[0m\n",
      "\u001b[38;5;2m✔ 5 checks passed\u001b[0m\n",
      "\u001b[38;5;3m⚠ 8 warnings\u001b[0m\n"
     ]
    }
   ],
   "source": [
    "# Debug the data\n",
    "!python -m spacy project run debug  /srv/projects/course-materials/w2/using-inception-data/newlang_project"
   ]
  },
  {
   "cell_type": "code",
   "execution_count": 5,
   "id": "8d32abf2",
   "metadata": {},
   "outputs": [
    {
     "name": "stdout",
     "output_type": "stream",
     "text": [
      "\u001b[1m\n",
      "=================================== train ===================================\u001b[0m\n",
      "Running command: /srv/projects/course-materials/w2/venv/bin/python -m spacy train config.cfg --output training/urban-giggle --gpu-id -1 --nlp.lang=yi\n",
      "\u001b[38;5;4mℹ Saving to output directory: training/urban-giggle\u001b[0m\n",
      "\u001b[38;5;4mℹ Using CPU\u001b[0m\n",
      "\u001b[1m\n",
      "=========================== Initializing pipeline ===========================\u001b[0m\n",
      "[2021-12-28 15:40:27,039] [INFO] Set up nlp object from config\n",
      "[2021-12-28 15:40:27,047] [INFO] Pipeline: ['tok2vec', 'tagger', 'parser', 'ner']\n",
      "[2021-12-28 15:40:27,051] [INFO] Created vocabulary\n",
      "[2021-12-28 15:40:27,051] [INFO] Finished initializing nlp object\n",
      "[2021-12-28 15:40:31,912] [INFO] Initialized pipeline components: ['tok2vec', 'tagger', 'parser', 'ner']\n",
      "\u001b[38;5;2m✔ Initialized pipeline\u001b[0m\n",
      "\u001b[1m\n",
      "============================= Training pipeline =============================\u001b[0m\n",
      "\u001b[38;5;4mℹ Pipeline: ['tok2vec', 'tagger', 'parser', 'ner']\u001b[0m\n",
      "\u001b[38;5;4mℹ Initial learn rate: 0.001\u001b[0m\n",
      "E    #       LOSS TOK2VEC  LOSS TAGGER  LOSS PARSER  LOSS NER  TAG_ACC  DEP_UAS  DEP_LAS  SENTS_F  ENTS_F  ENTS_P  ENTS_R  SCORE \n",
      "---  ------  ------------  -----------  -----------  --------  -------  -------  -------  -------  ------  ------  ------  ------\n",
      "  0       0          0.00        69.83       113.08     37.00    20.74    12.35    11.30     0.48    0.00    0.00    0.00    0.11\n",
      "^C\n",
      "\n",
      "Aborted!\n"
     ]
    }
   ],
   "source": [
    "# Train the model \n",
    "!python -m spacy project run train /srv/projects/course-materials/w2/using-inception-data/newlang_project"
   ]
  },
  {
   "cell_type": "code",
   "execution_count": null,
   "id": "018362d8",
   "metadata": {},
   "outputs": [],
   "source": [
    "# Evaluate the model \n",
    "!python -m spacy project run evaluate /srv/projects/course-materials/w2/using-inception-data/newlang_project"
   ]
  },
  {
   "cell_type": "code",
   "execution_count": 1,
   "id": "8e1d6f36",
   "metadata": {},
   "outputs": [
    {
     "name": "stdout",
     "output_type": "stream",
     "text": [
      "/bin/bash: python: command not found\r\n"
     ]
    }
   ],
   "source": [
    "# Package the model \n",
    "!mkdir ./export \n",
    "!python -m spacy package ./newlang_project/training/urban-giggle/model-last ./export "
   ]
  },
  {
   "cell_type": "code",
   "execution_count": 10,
   "id": "97783aaa",
   "metadata": {},
   "outputs": [
    {
     "name": "stdout",
     "output_type": "stream",
     "text": [
      "python: can't open file 'prodigy': [Errno 2] No such file or directory\r\n"
     ]
    }
   ],
   "source": []
  },
  {
   "cell_type": "code",
   "execution_count": null,
   "id": "6a9fed98",
   "metadata": {},
   "outputs": [],
   "source": []
  }
 ],
 "metadata": {
  "kernelspec": {
   "display_name": "Python 3 (ipykernel)",
   "language": "python",
   "name": "python3"
  },
  "language_info": {
   "codemirror_mode": {
    "name": "ipython",
    "version": 3
   },
   "file_extension": ".py",
   "mimetype": "text/x-python",
   "name": "python",
   "nbconvert_exporter": "python",
   "pygments_lexer": "ipython3",
   "version": "3.8.10"
  }
 },
 "nbformat": 4,
 "nbformat_minor": 5
}
