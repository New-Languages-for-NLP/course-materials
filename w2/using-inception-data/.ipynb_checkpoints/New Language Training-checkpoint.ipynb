{
 "cells": [
  {
   "cell_type": "markdown",
   "id": "061ba15a",
   "metadata": {},
   "source": [
    "This notebook: \n",
    "- Loads project file from GitHub\n",
    "- Loads assets from GitHub repo\n",
    "- installs the custom language object \n",
    "- converts the training data to spaCy binary\n",
    "- configure the project.yml file \n",
    "- train the model \n",
    "- assess performance \n",
    "- package the model (or push to huggingface) \n"
   ]
  },
  {
   "cell_type": "code",
   "execution_count": 3,
   "id": "7c0bda8e",
   "metadata": {},
   "outputs": [
    {
     "name": "stdout",
     "output_type": "stream",
     "text": [
      "\u001b[38;5;2m✔ Cloned 'newlang_project' from New-Languages-for-NLP/repo-template\u001b[0m\r\n",
      "/home/ds/projects/course-materials/w2/using-inception-data/newlang_project\r\n",
      "\u001b[38;5;2m✔ Your project is now ready!\u001b[0m\r\n",
      "To fetch the assets, run:\r\n",
      "python -m spacy project assets /home/ds/projects/course-materials/w2/using-inception-data/newlang_project\r\n"
     ]
    }
   ],
   "source": [
    "!python -m spacy project clone newlang_project --repo https://github.com/New-Languages-for-NLP/repo-template --branch main"
   ]
  },
  {
   "cell_type": "code",
   "execution_count": null,
   "id": "87d10ec4",
   "metadata": {},
   "outputs": [],
   "source": [
    "# %load /home/ds/projects/course-materials/w2/using-inception-data/newlang_project/project.yml\n",
    "title: \"Train new language model from cadet and inception data\"\n",
    "description: \"This project template lets you train a part-of-speech tagger, morphologizer and dependency parser from your cadet and inception data.  Adapted from https://github.com/explosion/projects/blob/v3/pipelines/tagger_parser_ud/project.yml\"\n",
    "\n",
    "# Variables can be referenced across the project.yml using ${vars.var_name}\n",
    "vars:\n",
    "  config: \"default\"\n",
    "  lang: \"yo\"\n",
    "  treebank: \"yoruba\"\n",
    "  train_name: \"en_ewt-ud-train\"\n",
    "  dev_name: \"en_ewt-ud-dev\"\n",
    "  test_name: \"en_ewt-ud-test\"\n",
    "  package_name: \"new language\"\n",
    "  package_version: \"0.0.0\"\n",
    "  gpu: -1\n",
    "\n",
    "# These are the directories that the project needs. The project CLI will make\n",
    "# sure that they always exist.\n",
    "directories: [\"assets\", \"corpus\", \"training\", \"metrics\", \"configs\", \"packages\"]\n",
    "\n",
    "assets:\n",
    "  - dest: \"assets/${vars.treebank}\"\n",
    "    git:\n",
    "      repo: \"https://github.com/New-Languages-for-NLP/${vars.treebank}\"\n",
    "      branch: \"main\"\n",
    "      path: \"\"\n",
    "\n",
    "workflows:\n",
    "  all:\n",
    "    - preprocess\n",
    "    - train\n",
    "    - evaluate\n",
    "    - package\n",
    "\n",
    "commands:\n",
    "  - name: preprocess\n",
    "    help: \"Convert the data to spaCy's format\"\n",
    "    script:\n",
    "      - \"mkdir -p corpus/${vars.treebank}\"\n",
    "      - \"python -m spacy convert assets/${vars.treebank}/${vars.train_name}.conllu corpus/${vars.treebank}/ --converter conllu --n-sents 10 --merge-subtokens\"\n",
    "      - \"python -m spacy convert assets/${vars.treebank}/${vars.dev_name}.conllu corpus/${vars.treebank}/ --converter conllu --n-sents 10 --merge-subtokens\"\n",
    "      - \"python -m spacy convert assets/${vars.treebank}/${vars.test_name}.conllu corpus/${vars.treebank}/ --converter conllu --n-sents 10 --merge-subtokens\"\n",
    "      - \"mv corpus/${vars.treebank}/${vars.train_name}.spacy corpus/${vars.treebank}/train.spacy\"\n",
    "      - \"mv corpus/${vars.treebank}/${vars.dev_name}.spacy corpus/${vars.treebank}/dev.spacy\"\n",
    "      - \"mv corpus/${vars.treebank}/${vars.test_name}.spacy corpus/${vars.treebank}/test.spacy\"\n",
    "    deps:\n",
    "      - \"assets/${vars.treebank}/${vars.train_name}.conllu\"\n",
    "      - \"assets/${vars.treebank}/${vars.dev_name}.conllu\"\n",
    "      - \"assets/${vars.treebank}/${vars.test_name}.conllu\"\n",
    "    outputs:\n",
    "      - \"corpus/${vars.treebank}/train.spacy\"\n",
    "      - \"corpus/${vars.treebank}/dev.spacy\"\n",
    "      - \"corpus/${vars.treebank}/test.spacy\"\n",
    "\n",
    "  - name: train\n",
    "    help: \"Train ${vars.treebank}\"\n",
    "    script:\n",
    "      - \"python -m spacy train configs/${vars.config}.cfg --output training/${vars.treebank} --gpu-id ${vars.gpu} --paths.train corpus/${vars.treebank}/train.spacy --paths.dev corpus/${vars.treebank}/dev.spacy --nlp.lang=${vars.lang}\"\n",
    "    deps:\n",
    "      - \"corpus/${vars.treebank}/train.spacy\"\n",
    "      - \"corpus/${vars.treebank}/dev.spacy\"\n",
    "      - \"configs/${vars.config}.cfg\"\n",
    "    outputs:\n",
    "      - \"training/${vars.treebank}/model-best\"\n",
    "\n",
    "  - name: evaluate\n",
    "    help: \"Evaluate on the test data and save the metrics\"\n",
    "    script:\n",
    "      - \"python -m spacy evaluate ./training/${vars.treebank}/model-best ./corpus/${vars.treebank}/test.spacy --output ./metrics/${vars.treebank}.json --gpu-id ${vars.gpu}\"\n",
    "    deps:\n",
    "      - \"training/${vars.treebank}/model-best\"\n",
    "      - \"corpus/${vars.treebank}/test.spacy\"\n",
    "    outputs:\n",
    "      - \"metrics/${vars.treebank}.json\"\n",
    "\n",
    "  - name: package\n",
    "    help: \"Package the trained model so it can be installed\"\n",
    "    script:\n",
    "      - \"python -m spacy package training/${vars.treebank}/model-best packages --name ${vars.package_name} --version ${vars.package_version} --force\"\n",
    "    deps:\n",
    "      - \"training/${vars.treebank}/model-best\"\n",
    "    outputs_no_cache:\n",
    "      - \"packages/${vars.lang}_${vars.package_name}-${vars.package_version}/dist/en_${vars.package_name}-${vars.package_version}.tar.gz\"\n",
    "\n",
    "  - name: clean\n",
    "    help: \"Remove intermediate files\"\n",
    "    script:\n",
    "      - \"rm -rf training/*\"\n",
    "      - \"rm -rf metrics/*\"\n",
    "      - \"rm -rf corpus/*\"\n"
   ]
  },
  {
   "cell_type": "code",
   "execution_count": 4,
   "id": "c6d03a7b",
   "metadata": {},
   "outputs": [
    {
     "name": "stdout",
     "output_type": "stream",
     "text": [
      "\u001b[38;5;4mℹ Fetching 1 asset(s)\u001b[0m\n",
      "\u001b[38;5;2m✔ Downloaded asset\n",
      "/home/ds/projects/course-materials/w2/using-inception-data/newlang_project/assets/yoruba\u001b[0m\n"
     ]
    }
   ],
   "source": [
    "!python -m spacy project assets /home/ds/projects/course-materials/w2/using-inception-data/newlang_project"
   ]
  },
  {
   "cell_type": "code",
   "execution_count": 5,
   "id": "ba4aacf9",
   "metadata": {},
   "outputs": [
    {
     "name": "stdout",
     "output_type": "stream",
     "text": [
      "0_original_texts  2_new_language_object  4_trained_models  README.md\r\n",
      "1_lookups_data\t  3_inception_export\t LICENSE\r\n"
     ]
    }
   ],
   "source": [
    "!ls /home/ds/projects/course-materials/w2/using-inception-data/newlang_project/assets/yoruba"
   ]
  },
  {
   "cell_type": "code",
   "execution_count": null,
   "id": "4dc13741",
   "metadata": {},
   "outputs": [],
   "source": [
    "# Install the custom language object from Cadet \n"
   ]
  },
  {
   "cell_type": "code",
   "execution_count": null,
   "id": "9519c858",
   "metadata": {},
   "outputs": [],
   "source": [
    "# Read data files, test/train split and convert to spaCy files"
   ]
  },
  {
   "cell_type": "code",
   "execution_count": null,
   "id": "4feefe6f",
   "metadata": {},
   "outputs": [],
   "source": [
    "# Debug the data "
   ]
  },
  {
   "cell_type": "code",
   "execution_count": null,
   "id": "38b490a4",
   "metadata": {},
   "outputs": [],
   "source": [
    "# train the model"
   ]
  },
  {
   "cell_type": "code",
   "execution_count": null,
   "id": "018362d8",
   "metadata": {},
   "outputs": [],
   "source": [
    "# Evaluate the model "
   ]
  },
  {
   "cell_type": "code",
   "execution_count": 2,
   "id": "a0ba9e5a",
   "metadata": {},
   "outputs": [],
   "source": [
    "# temp to clear project folder\n",
    "!rm -rf /home/ds/projects/course-materials/w2/using-inception-data/newlang_project"
   ]
  },
  {
   "cell_type": "code",
   "execution_count": null,
   "id": "8e1d6f36",
   "metadata": {},
   "outputs": [],
   "source": []
  }
 ],
 "metadata": {
  "kernelspec": {
   "display_name": "Python 3 (ipykernel)",
   "language": "python",
   "name": "python3"
  },
  "language_info": {
   "codemirror_mode": {
    "name": "ipython",
    "version": 3
   },
   "file_extension": ".py",
   "mimetype": "text/x-python",
   "name": "python",
   "nbconvert_exporter": "python",
   "pygments_lexer": "ipython3",
   "version": "3.7.11"
  }
 },
 "nbformat": 4,
 "nbformat_minor": 5
}
