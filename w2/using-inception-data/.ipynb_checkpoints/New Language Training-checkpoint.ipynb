{
 "cells": [
  {
   "cell_type": "markdown",
   "id": "061ba15a",
   "metadata": {},
   "source": [
    "This notebook: \n",
    "- Loads assets from GitHub repo\n",
    "- installs the custom language object \n",
    "- converts the training data to spaCy binary\n",
    "- configure the project.yml file \n",
    "- train the model \n",
    "- assess performance \n",
    "- package the model (or push to huggingface) \n"
   ]
  },
  {
   "cell_type": "code",
   "execution_count": null,
   "id": "1218c316",
   "metadata": {},
   "outputs": [],
   "source": []
  }
 ],
 "metadata": {
  "kernelspec": {
   "display_name": "Python 3 (ipykernel)",
   "language": "python",
   "name": "python3"
  },
  "language_info": {
   "codemirror_mode": {
    "name": "ipython",
    "version": 3
   },
   "file_extension": ".py",
   "mimetype": "text/x-python",
   "name": "python",
   "nbconvert_exporter": "python",
   "pygments_lexer": "ipython3",
   "version": "3.7.11"
  }
 },
 "nbformat": 4,
 "nbformat_minor": 5
}
