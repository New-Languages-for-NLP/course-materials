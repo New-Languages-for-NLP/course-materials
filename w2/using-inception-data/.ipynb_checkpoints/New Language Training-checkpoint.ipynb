{
 "cells": [
  {
   "cell_type": "markdown",
   "id": "061ba15a",
   "metadata": {},
   "source": [
    "This notebook: \n",
    "- Loads project file from GitHub\n",
    "- Loads assets from GitHub repo\n",
    "- installs the custom language object \n",
    "- converts the training data to spaCy binary\n",
    "- configure the project.yml file \n",
    "- train the model \n",
    "- assess performance \n",
    "- package the model (or push to huggingface) \n"
   ]
  },
  {
   "cell_type": "code",
   "execution_count": 9,
   "id": "7c0bda8e",
   "metadata": {},
   "outputs": [
    {
     "name": "stdout",
     "output_type": "stream",
     "text": [
      "\u001b[38;5;2m✔ Cloned 'newlang_project' from New-Languages-for-NLP/repo-template\u001b[0m\r\n",
      "/srv/projects/course-materials/w2/using-inception-data/newlang_project\r\n",
      "\u001b[38;5;2m✔ Your project is now ready!\u001b[0m\r\n",
      "To fetch the assets, run:\r\n",
      "python -m spacy project assets /srv/projects/course-materials/w2/using-inception-data/newlang_project\r\n"
     ]
    }
   ],
   "source": [
    "#TODO only works for public repos, otherwise it asks for username and password.  Just run in terminal?\n",
    "#TODO also assumes project.yml from GitHub, edit there? \n",
    "# Needs to work in Colab\n",
    "!python -m spacy project clone newlang_project --repo https://github.com/New-Languages-for-NLP/repo-template --branch main"
   ]
  },
  {
   "cell_type": "code",
   "execution_count": 16,
   "id": "c6d03a7b",
   "metadata": {},
   "outputs": [
    {
     "name": "stdout",
     "output_type": "stream",
     "text": [
      "\u001b[38;5;4mℹ Fetching 1 asset(s)\u001b[0m\n",
      "\u001b[38;5;2m✔ Downloaded asset\n",
      "/srv/projects/course-materials/w2/using-inception-data/newlang_project/assets/urban-giggle\u001b[0m\n"
     ]
    }
   ],
   "source": [
    "!python -m spacy project assets /srv/projects/course-materials/w2/using-inception-data/newlang_project"
   ]
  },
  {
   "cell_type": "code",
   "execution_count": 5,
   "id": "ba4aacf9",
   "metadata": {},
   "outputs": [
    {
     "name": "stdout",
     "output_type": "stream",
     "text": [
      "0_original_texts  2_new_language_object  4_trained_models  README.md\r\n",
      "1_lookups_data\t  3_inception_export\t LICENSE\r\n"
     ]
    }
   ],
   "source": [
    "!ls /home/ds/projects/course-materials/w2/using-inception-data/newlang_project/assets/yoruba"
   ]
  },
  {
   "cell_type": "code",
   "execution_count": null,
   "id": "4dc13741",
   "metadata": {},
   "outputs": [],
   "source": [
    "# Install the custom language object from Cadet \n",
    "!python3 -m spacy project run new_language_object"
   ]
  },
  {
   "cell_type": "code",
   "execution_count": null,
   "id": "9519c858",
   "metadata": {},
   "outputs": [],
   "source": [
    "# Read data files, test/train split and convert to spaCy files"
   ]
  },
  {
   "cell_type": "code",
   "execution_count": null,
   "id": "4feefe6f",
   "metadata": {},
   "outputs": [],
   "source": [
    "# Debug the data "
   ]
  },
  {
   "cell_type": "code",
   "execution_count": null,
   "id": "38b490a4",
   "metadata": {},
   "outputs": [],
   "source": [
    "# train the model"
   ]
  },
  {
   "cell_type": "code",
   "execution_count": null,
   "id": "018362d8",
   "metadata": {},
   "outputs": [],
   "source": [
    "# Evaluate the model "
   ]
  },
  {
   "cell_type": "code",
   "execution_count": 2,
   "id": "a0ba9e5a",
   "metadata": {},
   "outputs": [],
   "source": [
    "# temp to clear project folder\n",
    "!rm -rf /home/ds/projects/course-materials/w2/using-inception-data/newlang_project"
   ]
  },
  {
   "cell_type": "code",
   "execution_count": null,
   "id": "8e1d6f36",
   "metadata": {},
   "outputs": [],
   "source": []
  }
 ],
 "metadata": {
  "kernelspec": {
   "display_name": "Python 3 (ipykernel)",
   "language": "python",
   "name": "python3"
  },
  "language_info": {
   "codemirror_mode": {
    "name": "ipython",
    "version": 3
   },
   "file_extension": ".py",
   "mimetype": "text/x-python",
   "name": "python",
   "nbconvert_exporter": "python",
   "pygments_lexer": "ipython3",
   "version": "3.8.10"
  }
 },
 "nbformat": 4,
 "nbformat_minor": 5
}
