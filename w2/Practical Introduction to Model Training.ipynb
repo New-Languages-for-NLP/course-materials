{
 "cells": [
  {
   "cell_type": "markdown",
   "id": "16cdd475",
   "metadata": {},
   "source": [
    "### Outline\n",
    "#### Goal is to train spaCy NER from litbank data \n",
    "\n",
    "- Load annotation data from LitBank\n",
    "- Create train and validation sets\n",
    "- Identify entities in text using Matcher (note missed ents in val set, not learning, just matching)\n",
    "- Train NER from scratch using only language object\n",
    "- Train NER from scratch  for small en model  \n",
    "- Fine-tune existing NER pipeline\n",
    "- Assess results for various approaches \n",
    "- Where do we see improvement? When is the model sufficiently useful in research?\n"
   ]
  },
  {
   "cell_type": "code",
   "execution_count": 3,
   "id": "b4f0613a",
   "metadata": {},
   "outputs": [
    {
     "name": "stdout",
     "output_type": "stream",
     "text": [
      "Requirement already satisfied: spacy in /home/ds/anaconda3/envs/spacy/lib/python3.9/site-packages (3.2.1)\n",
      "Requirement already satisfied: sklearn in /home/ds/anaconda3/envs/spacy/lib/python3.9/site-packages (0.0)\n",
      "Requirement already satisfied: tqdm in /home/ds/anaconda3/envs/spacy/lib/python3.9/site-packages (4.62.3)\n",
      "Requirement already satisfied: setuptools in /home/ds/anaconda3/envs/spacy/lib/python3.9/site-packages (from spacy) (58.0.4)\n",
      "Requirement already satisfied: spacy-loggers<2.0.0,>=1.0.0 in /home/ds/anaconda3/envs/spacy/lib/python3.9/site-packages (from spacy) (1.0.1)\n",
      "Requirement already satisfied: srsly<3.0.0,>=2.4.1 in /home/ds/anaconda3/envs/spacy/lib/python3.9/site-packages (from spacy) (2.4.2)\n",
      "Requirement already satisfied: pathy>=0.3.5 in /home/ds/anaconda3/envs/spacy/lib/python3.9/site-packages (from spacy) (0.6.1)\n",
      "Requirement already satisfied: murmurhash<1.1.0,>=0.28.0 in /home/ds/anaconda3/envs/spacy/lib/python3.9/site-packages (from spacy) (1.0.6)\n",
      "Requirement already satisfied: preshed<3.1.0,>=3.0.2 in /home/ds/anaconda3/envs/spacy/lib/python3.9/site-packages (from spacy) (3.0.6)\n",
      "Requirement already satisfied: langcodes<4.0.0,>=3.2.0 in /home/ds/anaconda3/envs/spacy/lib/python3.9/site-packages (from spacy) (3.3.0)\n",
      "Requirement already satisfied: requests<3.0.0,>=2.13.0 in /home/ds/anaconda3/envs/spacy/lib/python3.9/site-packages (from spacy) (2.26.0)\n",
      "Requirement already satisfied: spacy-legacy<3.1.0,>=3.0.8 in /home/ds/anaconda3/envs/spacy/lib/python3.9/site-packages (from spacy) (3.0.8)\n",
      "Requirement already satisfied: wasabi<1.1.0,>=0.8.1 in /home/ds/anaconda3/envs/spacy/lib/python3.9/site-packages (from spacy) (0.9.0)\n",
      "Requirement already satisfied: packaging>=20.0 in /home/ds/anaconda3/envs/spacy/lib/python3.9/site-packages (from spacy) (21.3)\n",
      "Requirement already satisfied: catalogue<2.1.0,>=2.0.6 in /home/ds/anaconda3/envs/spacy/lib/python3.9/site-packages (from spacy) (2.0.6)\n",
      "Requirement already satisfied: typer<0.5.0,>=0.3.0 in /home/ds/anaconda3/envs/spacy/lib/python3.9/site-packages (from spacy) (0.4.0)\n",
      "Requirement already satisfied: thinc<8.1.0,>=8.0.12 in /home/ds/anaconda3/envs/spacy/lib/python3.9/site-packages (from spacy) (8.0.13)\n",
      "Requirement already satisfied: jinja2 in /home/ds/anaconda3/envs/spacy/lib/python3.9/site-packages (from spacy) (3.0.2)\n",
      "Requirement already satisfied: numpy>=1.15.0 in /home/ds/anaconda3/envs/spacy/lib/python3.9/site-packages (from spacy) (1.21.4)\n",
      "Requirement already satisfied: pydantic!=1.8,!=1.8.1,<1.9.0,>=1.7.4 in /home/ds/anaconda3/envs/spacy/lib/python3.9/site-packages (from spacy) (1.8.2)\n",
      "Requirement already satisfied: cymem<2.1.0,>=2.0.2 in /home/ds/anaconda3/envs/spacy/lib/python3.9/site-packages (from spacy) (2.0.6)\n",
      "Requirement already satisfied: blis<0.8.0,>=0.4.0 in /home/ds/anaconda3/envs/spacy/lib/python3.9/site-packages (from spacy) (0.7.5)\n",
      "Requirement already satisfied: scikit-learn in /home/ds/anaconda3/envs/spacy/lib/python3.9/site-packages (from sklearn) (1.0.1)\n",
      "Requirement already satisfied: pyparsing!=3.0.5,>=2.0.2 in /home/ds/anaconda3/envs/spacy/lib/python3.9/site-packages (from packaging>=20.0->spacy) (3.0.4)\n",
      "Requirement already satisfied: smart-open<6.0.0,>=5.0.0 in /home/ds/anaconda3/envs/spacy/lib/python3.9/site-packages (from pathy>=0.3.5->spacy) (5.2.1)\n",
      "Requirement already satisfied: typing-extensions>=3.7.4.3 in /home/ds/anaconda3/envs/spacy/lib/python3.9/site-packages (from pydantic!=1.8,!=1.8.1,<1.9.0,>=1.7.4->spacy) (4.0.1)\n",
      "Requirement already satisfied: idna<4,>=2.5 in /home/ds/anaconda3/envs/spacy/lib/python3.9/site-packages (from requests<3.0.0,>=2.13.0->spacy) (3.3)\n",
      "Requirement already satisfied: urllib3<1.27,>=1.21.1 in /home/ds/anaconda3/envs/spacy/lib/python3.9/site-packages (from requests<3.0.0,>=2.13.0->spacy) (1.26.7)\n",
      "Requirement already satisfied: certifi>=2017.4.17 in /home/ds/anaconda3/envs/spacy/lib/python3.9/site-packages (from requests<3.0.0,>=2.13.0->spacy) (2021.10.8)\n",
      "Requirement already satisfied: charset-normalizer~=2.0.0 in /home/ds/anaconda3/envs/spacy/lib/python3.9/site-packages (from requests<3.0.0,>=2.13.0->spacy) (2.0.9)\n",
      "Requirement already satisfied: click<9.0.0,>=7.1.1 in /home/ds/anaconda3/envs/spacy/lib/python3.9/site-packages (from typer<0.5.0,>=0.3.0->spacy) (8.0.3)\n",
      "Requirement already satisfied: MarkupSafe>=2.0 in /home/ds/anaconda3/envs/spacy/lib/python3.9/site-packages (from jinja2->spacy) (2.0.1)\n",
      "Requirement already satisfied: scipy>=1.1.0 in /home/ds/anaconda3/envs/spacy/lib/python3.9/site-packages (from scikit-learn->sklearn) (1.7.3)\n",
      "Requirement already satisfied: joblib>=0.11 in /home/ds/anaconda3/envs/spacy/lib/python3.9/site-packages (from scikit-learn->sklearn) (1.1.0)\n",
      "Requirement already satisfied: threadpoolctl>=2.0.0 in /home/ds/anaconda3/envs/spacy/lib/python3.9/site-packages (from scikit-learn->sklearn) (3.0.0)\n",
      "fatal: destination path 'litbank' already exists and is not an empty directory.\n",
      "Using spaCy version 3.2.1\n"
     ]
    }
   ],
   "source": [
    "!pip install spacy sklearn tqdm\n",
    "!git clone https://github.com/dbamman/litbank.git\n",
    "import spacy \n",
    "print(f'Using spaCy version {spacy.__version__}')"
   ]
  },
  {
   "cell_type": "code",
   "execution_count": 4,
   "id": "d79f27be",
   "metadata": {},
   "outputs": [
    {
     "name": "stdout",
     "output_type": "stream",
     "text": [
      "[*] imported 100 files\n"
     ]
    }
   ],
   "source": [
    "from pathlib import Path\n",
    "entities_path = Path.cwd() / 'litbank' / 'entities' / 'brat'\n",
    "\n",
    "text_files = [f for f in entities_path.iterdir() if f.suffix == '.txt']\n",
    "assert len(text_files) == 100\n",
    "print(f'[*] imported {len(text_files)} files')"
   ]
  },
  {
   "cell_type": "code",
   "execution_count": 5,
   "id": "cd119fa6",
   "metadata": {},
   "outputs": [
    {
     "data": {
      "application/vnd.jupyter.widget-view+json": {
       "model_id": "dd3077321131478ea6322905f6367d87",
       "version_major": 2,
       "version_minor": 0
      },
      "text/plain": [
       "  0%|          | 0/100 [00:00<?, ?it/s]"
      ]
     },
     "metadata": {},
     "output_type": "display_data"
    }
   ],
   "source": [
    "# for each file, create a Doc object and add the annotation data to doc.ents\n",
    "# our output is a list of Doc objects \n",
    "import spacy \n",
    "from tqdm.notebook import tqdm\n",
    "from spacy.tokens import Span, DocBin\n",
    "from spacy.util import filter_spans\n",
    "\n",
    "\n",
    "docs = []\n",
    "\n",
    "#note: not using pretrained model because it adds predictions, just want LitBank data\n",
    "nlp = spacy.blank(\"en\")\n",
    "\n",
    "for text_file in tqdm(text_files):\n",
    "    doc = nlp(text_file.read_text())\n",
    "    annotation_file = (entities_path / (text_file.stem +'.ann'))\n",
    "    annotations = annotation_file.read_text().split('\\n')\n",
    "    ents = []\n",
    "    for annotation in annotations[:-1]:\n",
    "        label, start, end = annotation.split('\\t')[1].split()\n",
    "        span = doc.char_span(int(start), int(end), label=label)\n",
    "        if span: # when start and end do not match a valid string, spaCy returns a NoneType span\n",
    "            ents.append(span)\n",
    "    \n",
    "    filtered = filter_spans(ents)\n",
    "    doc.ents = filtered\n",
    "    docs.append(doc)\n",
    "    \n",
    "\n",
    "assert len(docs) == 100"
   ]
  },
  {
   "cell_type": "code",
   "execution_count": 6,
   "id": "9e60eb38",
   "metadata": {},
   "outputs": [
    {
     "name": "stdout",
     "output_type": "stream",
     "text": [
      "Created 80 training docs\n",
      "Created 20 validation docs\n"
     ]
    }
   ],
   "source": [
    "# Split the data into sets for training and validation \n",
    "from sklearn.model_selection import train_test_split\n",
    "\n",
    "train_set, validation_set = train_test_split(docs, test_size=0.2)\n",
    "print(f'Created {len(train_set)} training docs')\n",
    "print(f'Created {len(validation_set)} validation docs')"
   ]
  },
  {
   "cell_type": "code",
   "execution_count": 7,
   "id": "e4afb1d9",
   "metadata": {},
   "outputs": [],
   "source": [
    "# Add training Docs to DocBin and store to disk\n",
    "from spacy.tokens import DocBin\n",
    "\n",
    "# the DocBin will store the training documents\n",
    "train_db = DocBin()\n",
    "for doc in train_set:\n",
    "    train_db.add(doc)\n",
    "train_db.to_disk(\"./train.spacy\")"
   ]
  },
  {
   "cell_type": "code",
   "execution_count": 8,
   "id": "1884af43",
   "metadata": {},
   "outputs": [],
   "source": [
    "# Save the validation Docs to disk \n",
    "validation_db = DocBin()\n",
    "for doc in validation_set:\n",
    "    validation_db.add(doc)\n",
    "    \n",
    "validation_db.to_disk(\"./validate.spacy\")"
   ]
  },
  {
   "cell_type": "code",
   "execution_count": 9,
   "id": "bc36b102",
   "metadata": {},
   "outputs": [
    {
     "name": "stdout",
     "output_type": "stream",
     "text": [
      "-rw-rw-r-- 1 ds ds 1240441 Dec 15 08:57 train.spacy\r\n",
      "-rw-rw-r-- 1 ds ds  334587 Dec 15 08:57 validate.spacy\r\n"
     ]
    }
   ],
   "source": [
    "!ls -al train.spacy validate.spacy"
   ]
  },
  {
   "cell_type": "code",
   "execution_count": 6,
   "id": "b7a96434",
   "metadata": {},
   "outputs": [
    {
     "name": "stdout",
     "output_type": "stream",
     "text": [
      "\r\n",
      "\u001b[38;5;1m✘ Unknown command: init\u001b[0m\r\n",
      "Available: download, link, info, train, pretrain, debug-data, evaluate, convert,\r\n",
      "package, init-model, profile, validate\r\n",
      "\r\n"
     ]
    }
   ],
   "source": [
    "!python3 -m spacy init config ./config.cfg --lang en --pipeline ner"
   ]
  },
  {
   "cell_type": "code",
   "execution_count": 5,
   "id": "ef03ecaa",
   "metadata": {},
   "outputs": [
    {
     "name": "stdout",
     "output_type": "stream",
     "text": [
      "cat: config.cfg: No such file or directory\r\n"
     ]
    }
   ],
   "source": [
    "# inspect the new config.cfg file \n",
    "!cat config.cfg"
   ]
  },
  {
   "cell_type": "code",
   "execution_count": null,
   "id": "eb6d34ef",
   "metadata": {},
   "outputs": [],
   "source": [
    "#!python3 -m spacy train ./config.cfg --output ./output --paths.train train.spacy --paths.dev dev.spacy"
   ]
  }
 ],
 "metadata": {
  "kernelspec": {
   "display_name": "Python 3",
   "language": "python",
   "name": "python3"
  },
  "language_info": {
   "codemirror_mode": {
    "name": "ipython",
    "version": 3
   },
   "file_extension": ".py",
   "mimetype": "text/x-python",
   "name": "python",
   "nbconvert_exporter": "python",
   "pygments_lexer": "ipython3",
   "version": "3.9.7"
  }
 },
 "nbformat": 4,
 "nbformat_minor": 5
}
