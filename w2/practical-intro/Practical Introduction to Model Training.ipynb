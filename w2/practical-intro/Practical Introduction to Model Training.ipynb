{
 "cells": [
  {
   "cell_type": "markdown",
   "id": "16cdd475",
   "metadata": {},
   "source": [
    "### Practical Introduction to Model Training\n",
    "#### In this notebook, we will train a spaCy named entity recognition model (NER) using data from [LitBank](https://github.com/dbamman/litbank) an annotated dataset of 100 works of English-language fiction.\n",
    "\n",
    "Steps:  \n",
    "✅ Load annotation data from LitBank  \n",
    "✅ Create train and validation sets  \n",
    "✅ Train NER from scratch using only the EN language object  \n",
    "✅ Visualize the results and compare the model's predictions against the original data  \n",
    "✅ Is the model sufficiently useful for research? What would need to be improved and changed?  \n"
   ]
  },
  {
   "cell_type": "code",
   "execution_count": null,
   "id": "b4f0613a",
   "metadata": {},
   "outputs": [],
   "source": [
    "!pip install spacy sklearn tqdm\n",
    "!git clone https://github.com/dbamman/litbank.git\n",
    "import spacy \n",
    "print(f'Using spaCy version {spacy.__version__}')"
   ]
  },
  {
   "cell_type": "code",
   "execution_count": 2,
   "id": "d79f27be",
   "metadata": {},
   "outputs": [
    {
     "name": "stdout",
     "output_type": "stream",
     "text": [
      "[*] imported 100 files\n"
     ]
    }
   ],
   "source": [
    "from pathlib import Path\n",
    "entities_path = Path.cwd() / 'litbank' / 'entities' / 'brat'\n",
    "\n",
    "text_files = [f for f in entities_path.iterdir() if f.suffix == '.txt']\n",
    "assert len(text_files) == 100\n",
    "print(f'[*] imported {len(text_files)} files')"
   ]
  },
  {
   "cell_type": "code",
   "execution_count": 3,
   "id": "cd119fa6",
   "metadata": {},
   "outputs": [
    {
     "data": {
      "application/vnd.jupyter.widget-view+json": {
       "model_id": "efc87b9b924149c0bc15c7069191b128",
       "version_major": 2,
       "version_minor": 0
      },
      "text/plain": [
       "  0%|          | 0/100 [00:00<?, ?it/s]"
      ]
     },
     "metadata": {},
     "output_type": "display_data"
    }
   ],
   "source": [
    "# for each file, create a Doc object and add the annotation data to doc.ents\n",
    "# our output is a list of Doc objects \n",
    "import spacy \n",
    "from tqdm.notebook import tqdm\n",
    "from spacy.tokens import Span, DocBin\n",
    "from spacy.util import filter_spans\n",
    "\n",
    "\n",
    "docs = []\n",
    "\n",
    "#note: not using pretrained model because it adds predictions, just want LitBank data\n",
    "nlp = spacy.blank(\"en\")\n",
    "nlp.add_pipe('sentencizer') # used in training assessment\n",
    "\n",
    "\n",
    "for text_file in tqdm(text_files):\n",
    "    doc = nlp(text_file.read_text())\n",
    "    annotation_file = (entities_path / (text_file.stem +'.ann'))\n",
    "    annotations = annotation_file.read_text().split('\\n')\n",
    "    ents = []\n",
    "    for annotation in annotations[:-1]:\n",
    "        label, start, end = annotation.split('\\t')[1].split()\n",
    "        span = doc.char_span(int(start), int(end), label=label)\n",
    "        if span: # when start and end do not match a valid string, spaCy returns a NoneType span\n",
    "            ents.append(span)\n",
    "    \n",
    "    filtered = filter_spans(ents)\n",
    "    doc.ents = filtered\n",
    "    docs.append(doc)\n",
    "    \n",
    "\n",
    "assert len(docs) == 100"
   ]
  },
  {
   "cell_type": "code",
   "execution_count": 5,
   "id": "9e60eb38",
   "metadata": {},
   "outputs": [
    {
     "name": "stdout",
     "output_type": "stream",
     "text": [
      "🚂 Created 90 training docs\n",
      "😊 Created 7 validation docs\n",
      "🧪 Created 3 test docs\n"
     ]
    }
   ],
   "source": [
    "# Split the data into sets for training and validation \n",
    "from sklearn.model_selection import train_test_split\n",
    "\n",
    "train_set, validation_set = train_test_split(docs, test_size=0.1)\n",
    "validation_set, test_set = train_test_split(validation_set, test_size=0.3)\n",
    "print(f'🚂 Created {len(train_set)} training docs')\n",
    "print(f'😊 Created {len(validation_set)} validation docs')\n",
    "print(f'🧪 Created {len(test_set)} test docs')"
   ]
  },
  {
   "cell_type": "code",
   "execution_count": 6,
   "id": "e4afb1d9",
   "metadata": {},
   "outputs": [],
   "source": [
    "# Add training Docs to DocBin and store to disk\n",
    "from spacy.tokens import DocBin\n",
    "\n",
    "# the DocBin will store the training documents\n",
    "train_db = DocBin()\n",
    "for doc in train_set:\n",
    "    train_db.add(doc)\n",
    "train_db.to_disk(\"./train.spacy\")\n",
    "\n",
    "# Save the validation Docs to disk \n",
    "validation_db = DocBin()\n",
    "for doc in validation_set:\n",
    "    validation_db.add(doc)\n",
    "    \n",
    "validation_db.to_disk(\"./dev.spacy\") \n",
    "\n",
    "# Save the test Docs to disk \n",
    "test_db = DocBin()\n",
    "for doc in test_set:\n",
    "    test_db.add(doc)\n",
    "    \n",
    "test_db.to_disk(\"./test.spacy\") "
   ]
  },
  {
   "cell_type": "code",
   "execution_count": 7,
   "id": "bc36b102",
   "metadata": {},
   "outputs": [
    {
     "name": "stdout",
     "output_type": "stream",
     "text": [
      "-rw-r--r-- 1 root root  115753 Dec 23 08:20 dev.spacy\r\n",
      "-rw-r--r-- 1 root root   53751 Dec 23 08:20 test.spacy\r\n",
      "-rw-r--r-- 1 root root 1406959 Dec 23 08:20 train.spacy\r\n"
     ]
    }
   ],
   "source": [
    "!ls -al train.spacy dev.spacy test.spacy"
   ]
  },
  {
   "cell_type": "code",
   "execution_count": 9,
   "id": "b7a96434",
   "metadata": {},
   "outputs": [
    {
     "name": "stdout",
     "output_type": "stream",
     "text": [
      "\u001b[38;5;3m⚠ To generate a more effective transformer-based config (GPU-only),\n",
      "install the spacy-transformers package and re-run this command. The config\n",
      "generated now does not use transformers.\u001b[0m\n",
      "\u001b[38;5;4mℹ Generated config template specific for your use case\u001b[0m\n",
      "- Language: en\n",
      "- Pipeline: ner\n",
      "- Optimize for: efficiency\n",
      "- Hardware: CPU\n",
      "- Transformer: None\n",
      "\u001b[38;5;2m✔ Auto-filled config with all values\u001b[0m\n",
      "\u001b[38;5;2m✔ Saved config\u001b[0m\n",
      "config.cfg\n",
      "You can now add your data and train your pipeline:\n",
      "python -m spacy train config.cfg --paths.train ./train.spacy --paths.dev ./dev.spacy\n"
     ]
    }
   ],
   "source": [
    "!python3 -m spacy init config ./config.cfg --lang en --pipeline ner -F"
   ]
  },
  {
   "cell_type": "code",
   "execution_count": 11,
   "id": "eb6d34ef",
   "metadata": {},
   "outputs": [
    {
     "name": "stdout",
     "output_type": "stream",
     "text": [
      "\u001b[38;5;4mℹ Saving to output directory: output\u001b[0m\n",
      "\u001b[38;5;4mℹ Using CPU\u001b[0m\n",
      "\u001b[1m\n",
      "=========================== Initializing pipeline ===========================\u001b[0m\n",
      "[2021-12-23 08:22:05,786] [INFO] Set up nlp object from config\n",
      "[2021-12-23 08:22:05,792] [INFO] Pipeline: ['tok2vec', 'ner']\n",
      "[2021-12-23 08:22:05,794] [INFO] Created vocabulary\n",
      "[2021-12-23 08:22:05,795] [INFO] Finished initializing nlp object\n",
      "[2021-12-23 08:22:11,376] [INFO] Initialized pipeline components: ['tok2vec', 'ner']\n",
      "\u001b[38;5;2m✔ Initialized pipeline\u001b[0m\n",
      "\u001b[1m\n",
      "============================= Training pipeline =============================\u001b[0m\n",
      "\u001b[38;5;4mℹ Pipeline: ['tok2vec', 'ner']\u001b[0m\n",
      "\u001b[38;5;4mℹ Initial learn rate: 0.001\u001b[0m\n",
      "E    #       LOSS TOK2VEC  LOSS NER  ENTS_F  ENTS_P  ENTS_R  SCORE \n",
      "---  ------  ------------  --------  ------  ------  ------  ------\n",
      "  0       0          0.00   1072.88    0.00    0.00    0.00    0.00\n",
      "  2     200      18889.69  63358.78   35.62   28.97   46.21    0.36\n",
      "  4     400      11414.18  27850.79   53.58   60.92   47.83    0.54\n",
      "  6     600      24399.51  23338.55   54.53   64.79   47.08    0.55\n",
      "  8     800      20359.37  18970.20   57.03   62.17   52.67    0.57\n",
      " 11    1000       6056.26  15459.09   56.76   65.95   49.81    0.57\n",
      " 13    1200       6623.85  13355.36   59.69   62.62   57.02    0.60\n",
      " 15    1400       6450.33  10892.70   63.05   67.52   59.13    0.63\n",
      " 17    1600       8249.34  10429.20   61.55   68.65   55.78    0.62\n",
      " 20    1800       8022.00   8933.03   58.64   59.82   57.52    0.59\n",
      " 22    2000      10772.98   8298.90   59.52   62.85   56.52    0.60\n",
      " 24    2200       9276.31   7258.57   58.76   61.78   56.02    0.59\n",
      " 26    2400       6356.31   5919.32   57.84   60.22   55.65    0.58\n",
      " 28    2600       7711.42   5918.36   58.36   63.77   53.79    0.58\n",
      " 31    2800      11050.54   5581.69   56.84   61.72   52.67    0.57\n",
      " 33    3000       8032.93   4899.75   56.33   60.37   52.80    0.56\n",
      "\u001b[38;5;2m✔ Saved pipeline to output directory\u001b[0m\n",
      "output/model-last\n"
     ]
    }
   ],
   "source": [
    "!python3 -m spacy train config.cfg --output ./output --paths.train train.spacy --paths.dev dev.spacy"
   ]
  },
  {
   "cell_type": "code",
   "execution_count": 22,
   "id": "dbd894df",
   "metadata": {},
   "outputs": [
    {
     "data": {
      "text/html": [
       "<span class=\"tex2jax_ignore\"><div class=\"entities\" style=\"line-height: 2.5; direction: ltr\">CHAPTER I At sunset hour \n",
       "<mark class=\"entity\" style=\"background: #ff9561; padding: 0.45em 0.6em; margin: 0 0.25em; line-height: 1; border-radius: 0.35em;\">\n",
       "    the forest\n",
       "    <span style=\"font-size: 0.8em; font-weight: bold; line-height: 1; border-radius: 0.35em; vertical-align: middle; margin-left: 0.5rem\">LOC</span>\n",
       "</mark>\n",
       " was still , lonely , sweet with tang of fir and spruce , blazing in gold and red and green ; and \n",
       "<mark class=\"entity\" style=\"background: #ddd; padding: 0.45em 0.6em; margin: 0 0.25em; line-height: 1; border-radius: 0.35em;\">\n",
       "    the man who glided on under the great trees seemed to blend with\n",
       "    <span style=\"font-size: 0.8em; font-weight: bold; line-height: 1; border-radius: 0.35em; vertical-align: middle; margin-left: 0.5rem\">PER</span>\n",
       "</mark>\n",
       " \n",
       "<mark class=\"entity\" style=\"background: #ddd; padding: 0.45em 0.6em; margin: 0 0.25em; line-height: 1; border-radius: 0.35em;\">\n",
       "    the colors\n",
       "    <span style=\"font-size: 0.8em; font-weight: bold; line-height: 1; border-radius: 0.35em; vertical-align: middle; margin-left: 0.5rem\">PER</span>\n",
       "</mark>\n",
       " and , disappearing , to have become a part of the wild woodland .</br>\n",
       "<mark class=\"entity\" style=\"background: #ddd; padding: 0.45em 0.6em; margin: 0 0.25em; line-height: 1; border-radius: 0.35em;\">\n",
       "    Old Baldy\n",
       "    <span style=\"font-size: 0.8em; font-weight: bold; line-height: 1; border-radius: 0.35em; vertical-align: middle; margin-left: 0.5rem\">PER</span>\n",
       "</mark>\n",
       " , highest of the White Mountains , stood up round and bare , rimmed bright gold in the last glow of the setting sun .</br>Then , as the fire dropped behind the domed peak , a change </div></span>"
      ],
      "text/plain": [
       "<IPython.core.display.HTML object>"
      ]
     },
     "metadata": {},
     "output_type": "display_data"
    }
   ],
   "source": [
    "# View the predictions of our new model\n",
    "import random\n",
    "from spacy import displacy \n",
    "\n",
    "new_nlp = spacy.load(\"output/model-last\")\n",
    "val_doc = random.choice(test_set)\n",
    "doc = new_nlp(val_doc.text)\n",
    "\n",
    "displacy.render(doc[:100], jupyter=True, style=\"ent\")"
   ]
  },
  {
   "cell_type": "code",
   "execution_count": 23,
   "id": "01af332a",
   "metadata": {},
   "outputs": [
    {
     "data": {
      "text/html": [
       "<span class=\"tex2jax_ignore\"><div class=\"entities\" style=\"line-height: 2.5; direction: ltr\">CHAPTER I At sunset hour \n",
       "<mark class=\"entity\" style=\"background: #ff9561; padding: 0.45em 0.6em; margin: 0 0.25em; line-height: 1; border-radius: 0.35em;\">\n",
       "    the forest\n",
       "    <span style=\"font-size: 0.8em; font-weight: bold; line-height: 1; border-radius: 0.35em; vertical-align: middle; margin-left: 0.5rem\">LOC</span>\n",
       "</mark>\n",
       " was still , lonely , sweet with tang of fir and spruce , blazing in gold and red and green ; and \n",
       "<mark class=\"entity\" style=\"background: #ddd; padding: 0.45em 0.6em; margin: 0 0.25em; line-height: 1; border-radius: 0.35em;\">\n",
       "    the man who glided on under the great trees\n",
       "    <span style=\"font-size: 0.8em; font-weight: bold; line-height: 1; border-radius: 0.35em; vertical-align: middle; margin-left: 0.5rem\">PER</span>\n",
       "</mark>\n",
       " seemed to blend with the colors and , disappearing , to have become a part of \n",
       "<mark class=\"entity\" style=\"background: #ff9561; padding: 0.45em 0.6em; margin: 0 0.25em; line-height: 1; border-radius: 0.35em;\">\n",
       "    the wild woodland\n",
       "    <span style=\"font-size: 0.8em; font-weight: bold; line-height: 1; border-radius: 0.35em; vertical-align: middle; margin-left: 0.5rem\">LOC</span>\n",
       "</mark>\n",
       " .</br>\n",
       "<mark class=\"entity\" style=\"background: #ff9561; padding: 0.45em 0.6em; margin: 0 0.25em; line-height: 1; border-radius: 0.35em;\">\n",
       "    Old Baldy\n",
       "    <span style=\"font-size: 0.8em; font-weight: bold; line-height: 1; border-radius: 0.35em; vertical-align: middle; margin-left: 0.5rem\">LOC</span>\n",
       "</mark>\n",
       " , highest of \n",
       "<mark class=\"entity\" style=\"background: #ddd; padding: 0.45em 0.6em; margin: 0 0.25em; line-height: 1; border-radius: 0.35em;\">\n",
       "    the White Mountains\n",
       "    <span style=\"font-size: 0.8em; font-weight: bold; line-height: 1; border-radius: 0.35em; vertical-align: middle; margin-left: 0.5rem\">PER</span>\n",
       "</mark>\n",
       " , stood up round and bare , rimmed bright gold in the last glow of the setting sun .</br>Then , as the fire dropped behind the domed peak , a change </div></span>"
      ],
      "text/plain": [
       "<IPython.core.display.HTML object>"
      ]
     },
     "metadata": {},
     "output_type": "display_data"
    }
   ],
   "source": [
    "# Compare against the original LitBank annotations \n",
    "displacy.render(val_doc[:100], jupyter=True, style=\"ent\")"
   ]
  },
  {
   "cell_type": "code",
   "execution_count": null,
   "id": "585e2d4b",
   "metadata": {},
   "outputs": [],
   "source": []
  }
 ],
 "metadata": {
  "kernelspec": {
   "display_name": "Python 3 (ipykernel)",
   "language": "python",
   "name": "python3"
  },
  "language_info": {
   "codemirror_mode": {
    "name": "ipython",
    "version": 3
   },
   "file_extension": ".py",
   "mimetype": "text/x-python",
   "name": "python",
   "nbconvert_exporter": "python",
   "pygments_lexer": "ipython3",
   "version": "3.8.10"
  }
 },
 "nbformat": 4,
 "nbformat_minor": 5
}
