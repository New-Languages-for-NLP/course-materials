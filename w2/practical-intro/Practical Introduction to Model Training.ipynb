{
 "cells": [
  {
   "cell_type": "markdown",
   "id": "16cdd475",
   "metadata": {},
   "source": [
    "### Outline\n",
    "#### Goal is to train spaCy NER from litbank data \n",
    "✅ Load annotation data from LitBank  \n",
    "✅ Create train and validation sets  \n",
    "✅ Train NER from scratch using only language object  \n",
    "✅ Assess results for various approaches  \n",
    "✅ Where do we see improvement? When is the model sufficiently useful in research? \n"
   ]
  },
  {
   "cell_type": "code",
   "execution_count": 1,
   "id": "b4f0613a",
   "metadata": {},
   "outputs": [
    {
     "name": "stdout",
     "output_type": "stream",
     "text": [
      "Requirement already satisfied: spacy in /home/ds/anaconda3/envs/spacy-gpu/lib/python3.7/site-packages (3.2.1)\n",
      "Requirement already satisfied: sklearn in /home/ds/anaconda3/envs/spacy-gpu/lib/python3.7/site-packages (0.0)\n",
      "Requirement already satisfied: tqdm in /home/ds/anaconda3/envs/spacy-gpu/lib/python3.7/site-packages (4.62.3)\n",
      "Requirement already satisfied: typer<0.5.0,>=0.3.0 in /home/ds/anaconda3/envs/spacy-gpu/lib/python3.7/site-packages (from spacy) (0.4.0)\n",
      "Requirement already satisfied: jinja2 in /home/ds/anaconda3/envs/spacy-gpu/lib/python3.7/site-packages (from spacy) (3.0.3)\n",
      "Requirement already satisfied: cymem<2.1.0,>=2.0.2 in /home/ds/anaconda3/envs/spacy-gpu/lib/python3.7/site-packages (from spacy) (2.0.6)\n",
      "Requirement already satisfied: murmurhash<1.1.0,>=0.28.0 in /home/ds/anaconda3/envs/spacy-gpu/lib/python3.7/site-packages (from spacy) (1.0.6)\n",
      "Requirement already satisfied: packaging>=20.0 in /home/ds/anaconda3/envs/spacy-gpu/lib/python3.7/site-packages (from spacy) (21.3)\n",
      "Requirement already satisfied: setuptools in /home/ds/anaconda3/envs/spacy-gpu/lib/python3.7/site-packages (from spacy) (58.0.4)\n",
      "Requirement already satisfied: thinc<8.1.0,>=8.0.12 in /home/ds/anaconda3/envs/spacy-gpu/lib/python3.7/site-packages (from spacy) (8.0.13)\n",
      "Requirement already satisfied: pathy>=0.3.5 in /home/ds/anaconda3/envs/spacy-gpu/lib/python3.7/site-packages (from spacy) (0.6.1)\n",
      "Requirement already satisfied: blis<0.8.0,>=0.4.0 in /home/ds/anaconda3/envs/spacy-gpu/lib/python3.7/site-packages (from spacy) (0.7.5)\n",
      "Requirement already satisfied: langcodes<4.0.0,>=3.2.0 in /home/ds/anaconda3/envs/spacy-gpu/lib/python3.7/site-packages (from spacy) (3.3.0)\n",
      "Requirement already satisfied: pydantic!=1.8,!=1.8.1,<1.9.0,>=1.7.4 in /home/ds/anaconda3/envs/spacy-gpu/lib/python3.7/site-packages (from spacy) (1.8.2)\n",
      "Requirement already satisfied: preshed<3.1.0,>=3.0.2 in /home/ds/anaconda3/envs/spacy-gpu/lib/python3.7/site-packages (from spacy) (3.0.6)\n",
      "Requirement already satisfied: typing-extensions<4.0.0.0,>=3.7.4 in /home/ds/anaconda3/envs/spacy-gpu/lib/python3.7/site-packages (from spacy) (3.10.0.2)\n",
      "Requirement already satisfied: wasabi<1.1.0,>=0.8.1 in /home/ds/anaconda3/envs/spacy-gpu/lib/python3.7/site-packages (from spacy) (0.9.0)\n",
      "Requirement already satisfied: spacy-legacy<3.1.0,>=3.0.8 in /home/ds/anaconda3/envs/spacy-gpu/lib/python3.7/site-packages (from spacy) (3.0.8)\n",
      "Requirement already satisfied: srsly<3.0.0,>=2.4.1 in /home/ds/anaconda3/envs/spacy-gpu/lib/python3.7/site-packages (from spacy) (2.4.2)\n",
      "Requirement already satisfied: spacy-loggers<2.0.0,>=1.0.0 in /home/ds/anaconda3/envs/spacy-gpu/lib/python3.7/site-packages (from spacy) (1.0.1)\n",
      "Requirement already satisfied: requests<3.0.0,>=2.13.0 in /home/ds/.local/lib/python3.7/site-packages (from spacy) (2.22.0)\n",
      "Requirement already satisfied: numpy>=1.15.0 in /home/ds/anaconda3/envs/spacy-gpu/lib/python3.7/site-packages (from spacy) (1.21.4)\n",
      "Requirement already satisfied: catalogue<2.1.0,>=2.0.6 in /home/ds/anaconda3/envs/spacy-gpu/lib/python3.7/site-packages (from spacy) (2.0.6)\n",
      "Requirement already satisfied: scikit-learn in /home/ds/anaconda3/envs/spacy-gpu/lib/python3.7/site-packages (from sklearn) (1.0.1)\n",
      "Requirement already satisfied: zipp>=0.5 in /home/ds/anaconda3/envs/spacy-gpu/lib/python3.7/site-packages (from catalogue<2.1.0,>=2.0.6->spacy) (3.6.0)\n",
      "Requirement already satisfied: pyparsing!=3.0.5,>=2.0.2 in /home/ds/anaconda3/envs/spacy-gpu/lib/python3.7/site-packages (from packaging>=20.0->spacy) (3.0.6)\n",
      "Requirement already satisfied: smart-open<6.0.0,>=5.0.0 in /home/ds/anaconda3/envs/spacy-gpu/lib/python3.7/site-packages (from pathy>=0.3.5->spacy) (5.2.1)\n",
      "Requirement already satisfied: idna<2.9,>=2.5 in /home/ds/.local/lib/python3.7/site-packages (from requests<3.0.0,>=2.13.0->spacy) (2.8)\n",
      "Requirement already satisfied: certifi>=2017.4.17 in /home/ds/anaconda3/envs/spacy-gpu/lib/python3.7/site-packages (from requests<3.0.0,>=2.13.0->spacy) (2021.10.8)\n",
      "Requirement already satisfied: urllib3!=1.25.0,!=1.25.1,<1.26,>=1.21.1 in /home/ds/.local/lib/python3.7/site-packages (from requests<3.0.0,>=2.13.0->spacy) (1.25.3)\n",
      "Requirement already satisfied: chardet<3.1.0,>=3.0.2 in /home/ds/anaconda3/envs/spacy-gpu/lib/python3.7/site-packages (from requests<3.0.0,>=2.13.0->spacy) (3.0.4)\n",
      "Requirement already satisfied: click<9.0.0,>=7.1.1 in /home/ds/anaconda3/envs/spacy-gpu/lib/python3.7/site-packages (from typer<0.5.0,>=0.3.0->spacy) (8.0.3)\n",
      "Requirement already satisfied: MarkupSafe>=2.0 in /home/ds/anaconda3/envs/spacy-gpu/lib/python3.7/site-packages (from jinja2->spacy) (2.0.1)\n",
      "Requirement already satisfied: joblib>=0.11 in /home/ds/anaconda3/envs/spacy-gpu/lib/python3.7/site-packages (from scikit-learn->sklearn) (1.1.0)\n",
      "Requirement already satisfied: threadpoolctl>=2.0.0 in /home/ds/anaconda3/envs/spacy-gpu/lib/python3.7/site-packages (from scikit-learn->sklearn) (3.0.0)\n",
      "Requirement already satisfied: scipy>=1.1.0 in /home/ds/anaconda3/envs/spacy-gpu/lib/python3.7/site-packages (from scikit-learn->sklearn) (1.7.3)\n",
      "Requirement already satisfied: importlib-metadata in /home/ds/anaconda3/envs/spacy-gpu/lib/python3.7/site-packages (from click<9.0.0,>=7.1.1->typer<0.5.0,>=0.3.0->spacy) (4.8.2)\n",
      "fatal: destination path 'litbank' already exists and is not an empty directory.\n",
      "Using spaCy version 3.2.1\n"
     ]
    }
   ],
   "source": [
    "!pip install spacy sklearn tqdm\n",
    "!git clone https://github.com/dbamman/litbank.git\n",
    "import spacy \n",
    "print(f'Using spaCy version {spacy.__version__}')"
   ]
  },
  {
   "cell_type": "code",
   "execution_count": 15,
   "id": "d79f27be",
   "metadata": {},
   "outputs": [
    {
     "name": "stdout",
     "output_type": "stream",
     "text": [
      "[*] imported 100 files\n"
     ]
    }
   ],
   "source": [
    "from pathlib import Path\n",
    "entities_path = Path.cwd() / 'litbank' / 'entities' / 'brat'\n",
    "\n",
    "text_files = [f for f in entities_path.iterdir() if f.suffix == '.txt']\n",
    "assert len(text_files) == 100\n",
    "print(f'[*] imported {len(text_files)} files')"
   ]
  },
  {
   "cell_type": "code",
   "execution_count": 16,
   "id": "cd119fa6",
   "metadata": {},
   "outputs": [
    {
     "data": {
      "application/vnd.jupyter.widget-view+json": {
       "model_id": "93d9782779734002965cf2775322ce04",
       "version_major": 2,
       "version_minor": 0
      },
      "text/plain": [
       "  0%|          | 0/100 [00:00<?, ?it/s]"
      ]
     },
     "metadata": {},
     "output_type": "display_data"
    }
   ],
   "source": [
    "# for each file, create a Doc object and add the annotation data to doc.ents\n",
    "# our output is a list of Doc objects \n",
    "import spacy \n",
    "from tqdm.notebook import tqdm\n",
    "from spacy.tokens import Span, DocBin\n",
    "from spacy.util import filter_spans\n",
    "\n",
    "\n",
    "docs = []\n",
    "\n",
    "#note: not using pretrained model because it adds predictions, just want LitBank data\n",
    "nlp = spacy.blank(\"en\")\n",
    "nlp.add_pipe('sentencizer') # used in training assessment\n",
    "\n",
    "\n",
    "for text_file in tqdm(text_files):\n",
    "    doc = nlp(text_file.read_text())\n",
    "    annotation_file = (entities_path / (text_file.stem +'.ann'))\n",
    "    annotations = annotation_file.read_text().split('\\n')\n",
    "    ents = []\n",
    "    for annotation in annotations[:-1]:\n",
    "        label, start, end = annotation.split('\\t')[1].split()\n",
    "        span = doc.char_span(int(start), int(end), label=label)\n",
    "        if span: # when start and end do not match a valid string, spaCy returns a NoneType span\n",
    "            ents.append(span)\n",
    "    \n",
    "    filtered = filter_spans(ents)\n",
    "    doc.ents = filtered\n",
    "    docs.append(doc)\n",
    "    \n",
    "\n",
    "assert len(docs) == 100"
   ]
  },
  {
   "cell_type": "code",
   "execution_count": 17,
   "id": "9e60eb38",
   "metadata": {},
   "outputs": [
    {
     "name": "stdout",
     "output_type": "stream",
     "text": [
      "Created 90 training docs\n",
      "Created 10 validation docs\n"
     ]
    }
   ],
   "source": [
    "# Split the data into sets for training and validation \n",
    "from sklearn.model_selection import train_test_split\n",
    "\n",
    "train_set, validation_set = train_test_split(docs, test_size=0.1)\n",
    "print(f'Created {len(train_set)} training docs')\n",
    "print(f'Created {len(validation_set)} validation docs')"
   ]
  },
  {
   "cell_type": "code",
   "execution_count": 18,
   "id": "e4afb1d9",
   "metadata": {},
   "outputs": [],
   "source": [
    "# Add training Docs to DocBin and store to disk\n",
    "from spacy.tokens import DocBin\n",
    "\n",
    "# the DocBin will store the training documents\n",
    "train_db = DocBin()\n",
    "for doc in train_set:\n",
    "    train_db.add(doc)\n",
    "train_db.to_disk(\"./train.spacy\")"
   ]
  },
  {
   "cell_type": "code",
   "execution_count": 19,
   "id": "1884af43",
   "metadata": {},
   "outputs": [],
   "source": [
    "# Save the validation Docs to disk \n",
    "validation_db = DocBin()\n",
    "for doc in validation_set:\n",
    "    validation_db.add(doc)\n",
    "    \n",
    "validation_db.to_disk(\"./dev.spacy\") # the spaCy doc refer to development data rather than validation, change our language?"
   ]
  },
  {
   "cell_type": "code",
   "execution_count": 20,
   "id": "bc36b102",
   "metadata": {},
   "outputs": [
    {
     "name": "stdout",
     "output_type": "stream",
     "text": [
      "-rw-rw-r-- 1 ds ds  166663 Dec 16 13:09 dev.spacy\r\n",
      "-rw-rw-r-- 1 ds ds 1404946 Dec 16 13:09 train.spacy\r\n"
     ]
    }
   ],
   "source": [
    "!ls -al train.spacy dev.spacy"
   ]
  },
  {
   "cell_type": "code",
   "execution_count": 22,
   "id": "b7a96434",
   "metadata": {},
   "outputs": [
    {
     "name": "stdout",
     "output_type": "stream",
     "text": [
      "\u001b[38;5;4mℹ Generated config template specific for your use case\u001b[0m\n",
      "- Language: en\n",
      "- Pipeline: ner\n",
      "- Optimize for: efficiency\n",
      "- Hardware: CPU\n",
      "- Transformer: None\n",
      "\u001b[38;5;2m✔ Auto-filled config with all values\u001b[0m\n",
      "\u001b[38;5;2m✔ Saved config\u001b[0m\n",
      "config.cfg\n",
      "You can now add your data and train your pipeline:\n",
      "python -m spacy train config.cfg --paths.train ./train.spacy --paths.dev ./dev.spacy\n"
     ]
    }
   ],
   "source": [
    "!python3 -m spacy init config ./config.cfg --lang en --pipeline ner"
   ]
  },
  {
   "cell_type": "code",
   "execution_count": 23,
   "id": "ef03ecaa",
   "metadata": {},
   "outputs": [
    {
     "name": "stdout",
     "output_type": "stream",
     "text": [
      "[paths]\r\n",
      "train = null\r\n",
      "dev = null\r\n",
      "vectors = null\r\n",
      "init_tok2vec = null\r\n",
      "\r\n",
      "[system]\r\n",
      "gpu_allocator = null\r\n",
      "seed = 0\r\n",
      "\r\n",
      "[nlp]\r\n",
      "lang = \"en\"\r\n",
      "pipeline = [\"tok2vec\",\"ner\"]\r\n",
      "batch_size = 1000\r\n",
      "disabled = []\r\n",
      "before_creation = null\r\n",
      "after_creation = null\r\n",
      "after_pipeline_creation = null\r\n",
      "tokenizer = {\"@tokenizers\":\"spacy.Tokenizer.v1\"}\r\n",
      "\r\n",
      "[components]\r\n",
      "\r\n",
      "[components.ner]\r\n",
      "factory = \"ner\"\r\n",
      "incorrect_spans_key = null\r\n",
      "moves = null\r\n",
      "scorer = {\"@scorers\":\"spacy.ner_scorer.v1\"}\r\n",
      "update_with_oracle_cut_size = 100\r\n",
      "\r\n",
      "[components.ner.model]\r\n",
      "@architectures = \"spacy.TransitionBasedParser.v2\"\r\n",
      "state_type = \"ner\"\r\n",
      "extra_state_tokens = false\r\n",
      "hidden_width = 64\r\n",
      "maxout_pieces = 2\r\n",
      "use_upper = true\r\n",
      "nO = null\r\n",
      "\r\n",
      "[components.ner.model.tok2vec]\r\n",
      "@architectures = \"spacy.Tok2VecListener.v1\"\r\n",
      "width = ${components.tok2vec.model.encode.width}\r\n",
      "upstream = \"*\"\r\n",
      "\r\n",
      "[components.tok2vec]\r\n",
      "factory = \"tok2vec\"\r\n",
      "\r\n",
      "[components.tok2vec.model]\r\n",
      "@architectures = \"spacy.Tok2Vec.v2\"\r\n",
      "\r\n",
      "[components.tok2vec.model.embed]\r\n",
      "@architectures = \"spacy.MultiHashEmbed.v2\"\r\n",
      "width = ${components.tok2vec.model.encode.width}\r\n",
      "attrs = [\"NORM\",\"PREFIX\",\"SUFFIX\",\"SHAPE\"]\r\n",
      "rows = [5000,2500,2500,2500]\r\n",
      "include_static_vectors = false\r\n",
      "\r\n",
      "[components.tok2vec.model.encode]\r\n",
      "@architectures = \"spacy.MaxoutWindowEncoder.v2\"\r\n",
      "width = 96\r\n",
      "depth = 4\r\n",
      "window_size = 1\r\n",
      "maxout_pieces = 3\r\n",
      "\r\n",
      "[corpora]\r\n",
      "\r\n",
      "[corpora.dev]\r\n",
      "@readers = \"spacy.Corpus.v1\"\r\n",
      "path = ${paths.dev}\r\n",
      "max_length = 0\r\n",
      "gold_preproc = false\r\n",
      "limit = 0\r\n",
      "augmenter = null\r\n",
      "\r\n",
      "[corpora.train]\r\n",
      "@readers = \"spacy.Corpus.v1\"\r\n",
      "path = ${paths.train}\r\n",
      "max_length = 0\r\n",
      "gold_preproc = false\r\n",
      "limit = 0\r\n",
      "augmenter = null\r\n",
      "\r\n",
      "[training]\r\n",
      "dev_corpus = \"corpora.dev\"\r\n",
      "train_corpus = \"corpora.train\"\r\n",
      "seed = ${system.seed}\r\n",
      "gpu_allocator = ${system.gpu_allocator}\r\n",
      "dropout = 0.1\r\n",
      "accumulate_gradient = 1\r\n",
      "patience = 1600\r\n",
      "max_epochs = 0\r\n",
      "max_steps = 20000\r\n",
      "eval_frequency = 200\r\n",
      "frozen_components = []\r\n",
      "annotating_components = []\r\n",
      "before_to_disk = null\r\n",
      "\r\n",
      "[training.batcher]\r\n",
      "@batchers = \"spacy.batch_by_words.v1\"\r\n",
      "discard_oversize = false\r\n",
      "tolerance = 0.2\r\n",
      "get_length = null\r\n",
      "\r\n",
      "[training.batcher.size]\r\n",
      "@schedules = \"compounding.v1\"\r\n",
      "start = 100\r\n",
      "stop = 1000\r\n",
      "compound = 1.001\r\n",
      "t = 0.0\r\n",
      "\r\n",
      "[training.logger]\r\n",
      "@loggers = \"spacy.ConsoleLogger.v1\"\r\n",
      "progress_bar = false\r\n",
      "\r\n",
      "[training.optimizer]\r\n",
      "@optimizers = \"Adam.v1\"\r\n",
      "beta1 = 0.9\r\n",
      "beta2 = 0.999\r\n",
      "L2_is_weight_decay = true\r\n",
      "L2 = 0.01\r\n",
      "grad_clip = 1.0\r\n",
      "use_averages = false\r\n",
      "eps = 0.00000001\r\n",
      "learn_rate = 0.001\r\n",
      "\r\n",
      "[training.score_weights]\r\n",
      "ents_f = 1.0\r\n",
      "ents_p = 0.0\r\n",
      "ents_r = 0.0\r\n",
      "ents_per_type = null\r\n",
      "\r\n",
      "[pretraining]\r\n",
      "\r\n",
      "[initialize]\r\n",
      "vectors = ${paths.vectors}\r\n",
      "init_tok2vec = ${paths.init_tok2vec}\r\n",
      "vocab_data = null\r\n",
      "lookups = null\r\n",
      "before_init = null\r\n",
      "after_init = null\r\n",
      "\r\n",
      "[initialize.components]\r\n",
      "\r\n",
      "[initialize.tokenizer]"
     ]
    }
   ],
   "source": [
    "# inspect the new config.cfg file \n",
    "!cat cpu_config.cfg\n",
    "# or %load config.cfg (but cell becomes very long)\n"
   ]
  },
  {
   "cell_type": "code",
   "execution_count": 24,
   "id": "eb6d34ef",
   "metadata": {},
   "outputs": [
    {
     "name": "stdout",
     "output_type": "stream",
     "text": [
      "CPU times: user 9 µs, sys: 2 µs, total: 11 µs\n",
      "Wall time: 26 µs\n",
      "\u001b[38;5;4mℹ Saving to output directory: output\u001b[0m\n",
      "\u001b[38;5;4mℹ Using GPU: 0\u001b[0m\n",
      "\u001b[1m\n",
      "=========================== Initializing pipeline ===========================\u001b[0m\n",
      "[2021-12-16 13:09:19,627] [INFO] Set up nlp object from config\n",
      "[2021-12-16 13:09:19,636] [INFO] Pipeline: ['tok2vec', 'ner']\n",
      "[2021-12-16 13:09:19,640] [INFO] Created vocabulary\n",
      "[2021-12-16 13:09:19,640] [INFO] Finished initializing nlp object\n",
      "[2021-12-16 13:09:24,163] [INFO] Initialized pipeline components: ['tok2vec', 'ner']\n",
      "\u001b[38;5;2m✔ Initialized pipeline\u001b[0m\n",
      "\u001b[1m\n",
      "============================= Training pipeline =============================\u001b[0m\n",
      "\u001b[38;5;4mℹ Pipeline: ['tok2vec', 'ner']\u001b[0m\n",
      "\u001b[38;5;4mℹ Initial learn rate: 0.001\u001b[0m\n",
      "E    #       LOSS TOK2VEC  LOSS NER  ENTS_F  ENTS_P  ENTS_R  SCORE \n",
      "---  ------  ------------  --------  ------  ------  ------  ------\n",
      "  0       0          0.00   1141.08    0.00    0.00    0.00    0.00\n",
      "  2     200      11347.67  56263.32   49.85   60.83   42.23    0.50\n",
      "  4     400      20383.62  30445.49   52.99   57.12   49.42    0.53\n",
      "  6     600      10084.62  20965.22   49.98   61.37   42.15    0.50\n",
      "  8     800      13918.34  20128.20   53.02   56.44   50.00    0.53\n",
      " 11    1000       6976.50  15797.35   59.96   65.71   55.12    0.60\n",
      " 13    1200       7975.84  13782.22   59.49   63.20   56.20    0.59\n",
      " 15    1400       9031.56  11592.83   59.49   62.97   56.36    0.59\n",
      " 17    1600       8538.95  10394.97   60.86   63.60   58.35    0.61\n",
      " 20    1800       8277.35   8816.55   60.03   63.28   57.11    0.60\n",
      " 22    2000       9541.61   8028.96   60.66   62.78   58.68    0.61\n",
      " 24    2200       8457.86   6975.94   59.87   65.62   55.04    0.60\n",
      " 26    2400      11391.52   6505.37   60.51   64.34   57.11    0.61\n",
      " 28    2600       7362.82   5905.08   61.10   64.52   58.02    0.61\n",
      " 31    2800       9231.19   5327.59   61.04   63.03   59.17    0.61\n",
      " 33    3000       9461.82   4990.23   59.97   62.36   57.77    0.60\n",
      " 35    3200       8409.18   4602.62   60.61   65.00   56.78    0.61\n",
      " 37    3400       8958.41   4388.34   61.87   65.11   58.93    0.62\n",
      " 40    3600      10381.21   4160.09   62.05   64.33   59.92    0.62\n",
      " 42    3800       6557.02   3463.68   62.45   66.73   58.68    0.62\n",
      " 44    4000       8694.87   3809.21   61.05   65.05   57.52    0.61\n",
      " 46    4200       8205.18   3232.10   62.27   63.78   60.83    0.62\n",
      " 48    4400       8937.52   3122.43   61.65   64.73   58.84    0.62\n",
      " 51    4600       6009.10   2659.33   62.27   64.24   60.41    0.62\n",
      " 53    4800      14247.50   2774.30   61.56   64.16   59.17    0.62\n",
      " 55    5000       7150.28   2586.71   60.00   61.03   59.01    0.60\n",
      " 57    5200      10058.94   2527.91   62.73   64.11   61.40    0.63\n",
      " 60    5400       4849.07   2220.13   62.46   64.01   60.99    0.62\n",
      " 62    5600       6256.35   2072.03   62.65   65.94   59.67    0.63\n",
      " 64    5800       6721.23   2032.59   62.35   63.50   61.24    0.62\n",
      " 66    6000       9184.36   2191.37   62.26   65.19   59.59    0.62\n",
      " 68    6200       6309.59   1829.07   60.64   62.64   58.76    0.61\n",
      " 71    6400       8718.50   1939.85   63.19   65.37   61.16    0.63\n",
      " 73    6600       7417.34   1764.35   62.77   65.91   59.92    0.63\n",
      " 75    6800      10654.88   1963.15   61.12   65.84   57.02    0.61\n",
      " 77    7000       8522.68   1772.53   61.59   65.01   58.51    0.62\n",
      " 80    7200       4689.65   1492.88   61.73   64.03   59.59    0.62\n",
      " 82    7400      11043.96   1678.07   61.90   63.38   60.50    0.62\n",
      " 84    7600       5987.52   1331.51   59.95   62.01   58.02    0.60\n",
      " 86    7800       4788.00   1443.29   61.39   63.60   59.34    0.61\n",
      " 88    8000      16512.71   1485.46   61.47   65.79   57.69    0.61\n",
      "\u001b[38;5;2m✔ Saved pipeline to output directory\u001b[0m\n",
      "output/model-last\n"
     ]
    }
   ],
   "source": [
    "%time \n",
    "!python3 -m spacy train config.cfg --output ./output --paths.train train.spacy --paths.dev dev.spacy"
   ]
  },
  {
   "cell_type": "code",
   "execution_count": 34,
   "id": "dbd894df",
   "metadata": {},
   "outputs": [
    {
     "data": {
      "text/html": [
       "<span class=\"tex2jax_ignore\"><div class=\"entities\" style=\"line-height: 2.5; direction: ltr\">CHAPTER 1 \n",
       "<mark class=\"entity\" style=\"background: #ddd; padding: 0.45em 0.6em; margin: 0 0.25em; line-height: 1; border-radius: 0.35em;\">\n",
       "    The Rassendylls\n",
       "    <span style=\"font-size: 0.8em; font-weight: bold; line-height: 1; border-radius: 0.35em; vertical-align: middle; margin-left: 0.5rem\">FAC</span>\n",
       "</mark>\n",
       " -- With a Word on \n",
       "<mark class=\"entity\" style=\"background: #ddd; padding: 0.45em 0.6em; margin: 0 0.25em; line-height: 1; border-radius: 0.35em;\">\n",
       "    the Elphbergs\n",
       "    <span style=\"font-size: 0.8em; font-weight: bold; line-height: 1; border-radius: 0.35em; vertical-align: middle; margin-left: 0.5rem\">PER</span>\n",
       "</mark>\n",
       " “ I wonder when in \n",
       "<mark class=\"entity\" style=\"background: #ff9561; padding: 0.45em 0.6em; margin: 0 0.25em; line-height: 1; border-radius: 0.35em;\">\n",
       "    the world\n",
       "    <span style=\"font-size: 0.8em; font-weight: bold; line-height: 1; border-radius: 0.35em; vertical-align: middle; margin-left: 0.5rem\">LOC</span>\n",
       "</mark>\n",
       " you ’re going to do anything , Rudolf ? ” said \n",
       "<mark class=\"entity\" style=\"background: #ddd; padding: 0.45em 0.6em; margin: 0 0.25em; line-height: 1; border-radius: 0.35em;\">\n",
       "    my brother ’s wife\n",
       "    <span style=\"font-size: 0.8em; font-weight: bold; line-height: 1; border-radius: 0.35em; vertical-align: middle; margin-left: 0.5rem\">PER</span>\n",
       "</mark>\n",
       " .</br>“ \n",
       "<mark class=\"entity\" style=\"background: #ddd; padding: 0.45em 0.6em; margin: 0 0.25em; line-height: 1; border-radius: 0.35em;\">\n",
       "    My dear\n",
       "    <span style=\"font-size: 0.8em; font-weight: bold; line-height: 1; border-radius: 0.35em; vertical-align: middle; margin-left: 0.5rem\">PER</span>\n",
       "</mark>\n",
       " \n",
       "<mark class=\"entity\" style=\"background: #ddd; padding: 0.45em 0.6em; margin: 0 0.25em; line-height: 1; border-radius: 0.35em;\">\n",
       "    Rose\n",
       "    <span style=\"font-size: 0.8em; font-weight: bold; line-height: 1; border-radius: 0.35em; vertical-align: middle; margin-left: 0.5rem\">PER</span>\n",
       "</mark>\n",
       " , ” I answered , laying down my egg-spoon , “ why in \n",
       "<mark class=\"entity\" style=\"background: #ff9561; padding: 0.45em 0.6em; margin: 0 0.25em; line-height: 1; border-radius: 0.35em;\">\n",
       "    the world\n",
       "    <span style=\"font-size: 0.8em; font-weight: bold; line-height: 1; border-radius: 0.35em; vertical-align: middle; margin-left: 0.5rem\">LOC</span>\n",
       "</mark>\n",
       " should I do anything ?</br>My position is a comfortable one .</br>I have an income nearly sufficient for my wants ( no one ’s income is ever quite sufficient , you know ) , I enjoy an enviable social position : </div></span>"
      ],
      "text/plain": [
       "<IPython.core.display.HTML object>"
      ]
     },
     "metadata": {},
     "output_type": "display_data"
    }
   ],
   "source": [
    "# View the predictions of our new model\n",
    "import random\n",
    "from spacy import displacy \n",
    "\n",
    "new_nlp = spacy.load(\"output/model-last\")\n",
    "val_doc = random.choice(validation_set)\n",
    "doc = new_nlp(val_doc.text)\n",
    "\n",
    "displacy.render(doc[:100], jupyter=True, style=\"ent\")"
   ]
  },
  {
   "cell_type": "code",
   "execution_count": 35,
   "id": "01af332a",
   "metadata": {},
   "outputs": [
    {
     "data": {
      "text/html": [
       "<span class=\"tex2jax_ignore\"><div class=\"entities\" style=\"line-height: 2.5; direction: ltr\">CHAPTER 1 \n",
       "<mark class=\"entity\" style=\"background: #ddd; padding: 0.45em 0.6em; margin: 0 0.25em; line-height: 1; border-radius: 0.35em;\">\n",
       "    The Rassendylls\n",
       "    <span style=\"font-size: 0.8em; font-weight: bold; line-height: 1; border-radius: 0.35em; vertical-align: middle; margin-left: 0.5rem\">PER</span>\n",
       "</mark>\n",
       " -- With a Word on \n",
       "<mark class=\"entity\" style=\"background: #ddd; padding: 0.45em 0.6em; margin: 0 0.25em; line-height: 1; border-radius: 0.35em;\">\n",
       "    the Elphbergs\n",
       "    <span style=\"font-size: 0.8em; font-weight: bold; line-height: 1; border-radius: 0.35em; vertical-align: middle; margin-left: 0.5rem\">PER</span>\n",
       "</mark>\n",
       " “ I wonder when in \n",
       "<mark class=\"entity\" style=\"background: #ff9561; padding: 0.45em 0.6em; margin: 0 0.25em; line-height: 1; border-radius: 0.35em;\">\n",
       "    the world\n",
       "    <span style=\"font-size: 0.8em; font-weight: bold; line-height: 1; border-radius: 0.35em; vertical-align: middle; margin-left: 0.5rem\">LOC</span>\n",
       "</mark>\n",
       " you ’re going to do anything , \n",
       "<mark class=\"entity\" style=\"background: #ddd; padding: 0.45em 0.6em; margin: 0 0.25em; line-height: 1; border-radius: 0.35em;\">\n",
       "    Rudolf\n",
       "    <span style=\"font-size: 0.8em; font-weight: bold; line-height: 1; border-radius: 0.35em; vertical-align: middle; margin-left: 0.5rem\">PER</span>\n",
       "</mark>\n",
       " ? ” said \n",
       "<mark class=\"entity\" style=\"background: #ddd; padding: 0.45em 0.6em; margin: 0 0.25em; line-height: 1; border-radius: 0.35em;\">\n",
       "    my brother ’s wife\n",
       "    <span style=\"font-size: 0.8em; font-weight: bold; line-height: 1; border-radius: 0.35em; vertical-align: middle; margin-left: 0.5rem\">PER</span>\n",
       "</mark>\n",
       " .</br>“ \n",
       "<mark class=\"entity\" style=\"background: #ddd; padding: 0.45em 0.6em; margin: 0 0.25em; line-height: 1; border-radius: 0.35em;\">\n",
       "    My dear\n",
       "    <span style=\"font-size: 0.8em; font-weight: bold; line-height: 1; border-radius: 0.35em; vertical-align: middle; margin-left: 0.5rem\">PER</span>\n",
       "</mark>\n",
       " \n",
       "<mark class=\"entity\" style=\"background: #ddd; padding: 0.45em 0.6em; margin: 0 0.25em; line-height: 1; border-radius: 0.35em;\">\n",
       "    Rose\n",
       "    <span style=\"font-size: 0.8em; font-weight: bold; line-height: 1; border-radius: 0.35em; vertical-align: middle; margin-left: 0.5rem\">PER</span>\n",
       "</mark>\n",
       " , ” I answered , laying down my egg-spoon , “ why in \n",
       "<mark class=\"entity\" style=\"background: #ff9561; padding: 0.45em 0.6em; margin: 0 0.25em; line-height: 1; border-radius: 0.35em;\">\n",
       "    the world\n",
       "    <span style=\"font-size: 0.8em; font-weight: bold; line-height: 1; border-radius: 0.35em; vertical-align: middle; margin-left: 0.5rem\">LOC</span>\n",
       "</mark>\n",
       " should I do anything ?</br>My position is a comfortable one .</br>I have an income nearly sufficient for my wants ( \n",
       "<mark class=\"entity\" style=\"background: #ddd; padding: 0.45em 0.6em; margin: 0 0.25em; line-height: 1; border-radius: 0.35em;\">\n",
       "    no one\n",
       "    <span style=\"font-size: 0.8em; font-weight: bold; line-height: 1; border-radius: 0.35em; vertical-align: middle; margin-left: 0.5rem\">PER</span>\n",
       "</mark>\n",
       " ’s income is ever quite sufficient , you know ) , I enjoy an enviable social position : </div></span>"
      ],
      "text/plain": [
       "<IPython.core.display.HTML object>"
      ]
     },
     "metadata": {},
     "output_type": "display_data"
    }
   ],
   "source": [
    "# Compare against the original LitBank annotations \n",
    "displacy.render(val_doc[:100], jupyter=True, style=\"ent\")"
   ]
  },
  {
   "cell_type": "code",
   "execution_count": null,
   "id": "b2d16ee5",
   "metadata": {},
   "outputs": [],
   "source": []
  }
 ],
 "metadata": {
  "kernelspec": {
   "display_name": "Python 3 (ipykernel)",
   "language": "python",
   "name": "python3"
  },
  "language_info": {
   "codemirror_mode": {
    "name": "ipython",
    "version": 3
   },
   "file_extension": ".py",
   "mimetype": "text/x-python",
   "name": "python",
   "nbconvert_exporter": "python",
   "pygments_lexer": "ipython3",
   "version": "3.7.11"
  }
 },
 "nbformat": 4,
 "nbformat_minor": 5
}
