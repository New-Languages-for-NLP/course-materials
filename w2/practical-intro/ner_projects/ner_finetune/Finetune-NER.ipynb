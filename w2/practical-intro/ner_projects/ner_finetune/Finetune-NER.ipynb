{
 "cells": [
  {
   "cell_type": "markdown",
   "id": "24957c60",
   "metadata": {},
   "source": [
    "src: https://github.com/explosion/projects/tree/v3/pipelines/ner_demo\n",
    "    "
   ]
  },
  {
   "cell_type": "code",
   "execution_count": 31,
   "id": "1107e3ab",
   "metadata": {},
   "outputs": [
    {
     "name": "stdout",
     "output_type": "stream",
     "text": [
      "Overwriting project.yml\n"
     ]
    }
   ],
   "source": [
    "%%writefile project.yml\n",
    "\n",
    "title: \"Fine-tune the NER component in a pretrained pipeline\"\n",
    "description: \"Rather than training from scratch, we will fine-tune the ner pipeline of a pre-trained model.\"\n",
    "spacy_version: \">=3.0.6,<4.0.0\"\n",
    "# Variables can be referenced across the project.yml using ${vars.var_name}\n",
    "vars:\n",
    "  name: \"ner_finetune\"\n",
    "  lang: \"en\"\n",
    "  # for en_core_web_trf or other trf pipeline, use spacy-transformers>=1.1.1\n",
    "  pipeline: \"en_core_web_sm\"\n",
    "  train: \"train.json\"\n",
    "  dev: \"dev.json\"\n",
    "  version: \"0.0.0\"\n",
    "  # Set your GPU ID, -1 is CPU\n",
    "  gpu_id: -1\n",
    "\n",
    "# These are the directories that the project needs. The project CLI will make\n",
    "# sure that they always exist.\n",
    "directories: [\"assets\", \"corpus\", \"configs\", \"training\", \"scripts\", \"packages\"]\n",
    "\n",
    "# Fetch the litbank data from GitHub and save to the assets folder\n",
    "\n",
    "assets:\n",
    "  - dest: \"assets/litbank\"\n",
    "    git:\n",
    "      repo: \"https://github.com/dbamman/litbank\"\n",
    "      branch: \"master\"\n",
    "      path: \"\"\n",
    "        \n",
    "# Workflows are sequences of commands (see below) executed in order. You can\n",
    "# run them via \"spacy project run [workflow]\". If a commands's inputs/outputs\n",
    "# haven't changed, it won't be re-run.\n",
    "workflows:\n",
    "  all:\n",
    "    - convert\n",
    "    - create-config\n",
    "    - train\n",
    "    - evaluate\n",
    "\n",
    "# Project commands, specified in a style similar to CI config files (e.g. Azure\n",
    "# pipelines). The name is the command name that lets you trigger the command\n",
    "# via \"spacy project run [command] [path]\". The help message is optional and\n",
    "# shown when executing \"spacy project run [optional command] [path] --help\".\n",
    "commands:\n",
    "  - name: \"download\"\n",
    "    help: \"Download the pretrained pipeline\"\n",
    "    script:\n",
    "      - \"python -m spacy download ${vars.pipeline}\"\n",
    "    \n",
    "  - name: \"convert\"\n",
    "    help: \"Convert the data to spaCy's binary format\"\n",
    "    script:\n",
    "      - \"python scripts/convert.py ${vars.lang} 0.2\"\n",
    "    deps:\n",
    "      - \"scripts/convert.py\"\n",
    "    outputs:\n",
    "      - \"corpus/train.spacy\"\n",
    "      - \"corpus/dev.spacy\"\n",
    "\n",
    "  - name: \"create-config\"\n",
    "    help: \"Create a config for updating only NER from an existing pipeline\"\n",
    "    script:\n",
    "      - \"python scripts/create_config.py ${vars.pipeline} ner configs/config.cfg\"\n",
    "    deps:\n",
    "      - \"scripts/create_config.py\"\n",
    "    outputs:\n",
    "      - \"configs/config.cfg\"\n",
    "\n",
    "  - name: \"train\"\n",
    "    help: \"Update the NER model\"\n",
    "    script:\n",
    "      - \"python -m spacy train configs/config.cfg --output training/ --paths.train corpus/train.spacy --paths.dev corpus/dev.spacy --training.eval_frequency 10 --training.max_steps 500 --training.patience 50 --gpu-id ${vars.gpu_id}\"\n",
    "    deps:\n",
    "      - \"configs/config.cfg\"\n",
    "      - \"corpus/train.spacy\"\n",
    "      - \"corpus/dev.spacy\"\n",
    "    outputs:\n",
    "      - \"training/model-best\"\n",
    "\n",
    "  - name: \"evaluate\"\n",
    "    help: \"Evaluate the model and export metrics\"\n",
    "    script:\n",
    "      - \"python -m spacy evaluate training/model-best corpus/dev.spacy --output training/metrics.json\"\n",
    "    deps:\n",
    "      - \"corpus/dev.spacy\"\n",
    "      - \"training/model-best\"\n",
    "    outputs:\n",
    "      - \"training/metrics.json\"\n",
    "\n",
    "  - name: package\n",
    "    help: \"Package the trained model as a pip package\"\n",
    "    script:\n",
    "      - \"python -m spacy package training/model-best packages --name ${vars.name} --version ${vars.version} --force\"\n",
    "    deps:\n",
    "      - \"training/model-best\"\n",
    "    outputs_no_cache:\n",
    "      - \"packages/${vars.lang}_${vars.name}-${vars.version}/dist/${vars.lang}_${vars.name}-${vars.version}.tar.gz\"\n",
    "\n",
    "  - name: visualize-model\n",
    "    help: Visualize the model's output interactively using Streamlit\n",
    "    script:\n",
    "      - \"streamlit run scripts/visualize_model.py training/model-best \\\"I saw Shaka Khan in London. I like horses.\\\"\"\n",
    "    deps:\n",
    "      - \"scripts/visualize_model.py\"\n",
    "      - \"training/model-best\"\n"
   ]
  },
  {
   "cell_type": "code",
   "execution_count": 48,
   "id": "dc30b84f",
   "metadata": {},
   "outputs": [
    {
     "name": "stdout",
     "output_type": "stream",
     "text": [
      "Overwriting ./scripts/convert.py\n"
     ]
    }
   ],
   "source": [
    "%%writefile ./scripts/convert.py\n",
    "\n",
    "\"\"\"Convert LitBank data to spaCy v3\n",
    ".spacy format.\"\"\"\n",
    "import srsly\n",
    "import typer\n",
    "import warnings\n",
    "from pathlib import Path\n",
    "\n",
    "import spacy\n",
    "from spacy.tokens import DocBin\n",
    "from spacy.util import filter_spans\n",
    "from sklearn.model_selection import train_test_split\n",
    "\n",
    "\n",
    "\n",
    "def convert(lang: str, test_size:float):\n",
    "    entities_path = Path.cwd() / 'assets' / 'litbank' / 'entities' / 'brat'\n",
    "    assert entities_path.exists()\n",
    "    \n",
    "    text_files = [f for f in entities_path.iterdir() if f.suffix == '.txt']\n",
    "\n",
    "    docs = []\n",
    "\n",
    "    #note: not using pretrained model because it adds predictions, just want LitBank data\n",
    "    nlp = spacy.blank(lang)\n",
    "\n",
    "    for text_file in text_files:\n",
    "        doc = nlp.make_doc(text_file.read_text())\n",
    "        annotation_file = (entities_path / (text_file.stem +'.ann'))\n",
    "        annotations = annotation_file.read_text().split('\\n')\n",
    "        ents = []\n",
    "        for annotation in annotations[:-1]:\n",
    "            label, start, end = annotation.split('\\t')[1].split()\n",
    "            span = doc.char_span(int(start), int(end), label=label)\n",
    "            if span: # when start and end do not match a valid string, spaCy returns a NoneType span\n",
    "                ents.append(span)\n",
    "\n",
    "        filtered = filter_spans(ents)\n",
    "        doc.ents = filtered\n",
    "        docs.append(doc)\n",
    "\n",
    "    train_set, validation_set = train_test_split(docs, test_size=test_size)\n",
    "    print(f'Created {len(train_set)} training docs')\n",
    "    print(f'Created {len(validation_set)} validation docs')\n",
    "    \n",
    "    # the DocBin will store the training documents\n",
    "    train_db = DocBin()\n",
    "    for doc in train_set:\n",
    "        train_db.add(doc)\n",
    "    train_db.to_disk((Path.cwd() / 'corpus' /\"train.spacy\"))\n",
    "\n",
    "    # Save the validation Docs to disk \n",
    "    validation_db = DocBin()\n",
    "    for doc in validation_set:\n",
    "        validation_db.add(doc)\n",
    "\n",
    "    validation_db.to_disk((Path.cwd() / 'corpus' / \"dev.spacy\"))\n",
    "\n",
    "\n",
    "if __name__ == \"__main__\":\n",
    "    typer.run(convert)\n"
   ]
  },
  {
   "cell_type": "markdown",
   "id": "99b5b549",
   "metadata": {},
   "source": [
    "# Now let's run the project! "
   ]
  },
  {
   "cell_type": "code",
   "execution_count": 49,
   "id": "5177f913",
   "metadata": {},
   "outputs": [
    {
     "name": "stdout",
     "output_type": "stream",
     "text": [
      "\u001b[1m\n",
      "================================== download ==================================\u001b[0m\n",
      "Running command: /home/ds/anaconda3/envs/spacy-gpu/bin/python -m spacy download en_core_web_sm\n",
      "Collecting en-core-web-sm==3.2.0\n",
      "  Downloading https://github.com/explosion/spacy-models/releases/download/en_core_web_sm-3.2.0/en_core_web_sm-3.2.0-py3-none-any.whl (13.9 MB)\n",
      "     |████████████████████████████████| 13.9 MB 14.7 MB/s            \n",
      "\u001b[?25hRequirement already satisfied: spacy<3.3.0,>=3.2.0 in /home/ds/anaconda3/envs/spacy-gpu/lib/python3.7/site-packages (from en-core-web-sm==3.2.0) (3.2.1)\n",
      "Requirement already satisfied: catalogue<2.1.0,>=2.0.6 in /home/ds/anaconda3/envs/spacy-gpu/lib/python3.7/site-packages (from spacy<3.3.0,>=3.2.0->en-core-web-sm==3.2.0) (2.0.6)\n",
      "Requirement already satisfied: langcodes<4.0.0,>=3.2.0 in /home/ds/anaconda3/envs/spacy-gpu/lib/python3.7/site-packages (from spacy<3.3.0,>=3.2.0->en-core-web-sm==3.2.0) (3.3.0)\n",
      "Requirement already satisfied: setuptools in /home/ds/anaconda3/envs/spacy-gpu/lib/python3.7/site-packages (from spacy<3.3.0,>=3.2.0->en-core-web-sm==3.2.0) (58.0.4)\n",
      "Requirement already satisfied: numpy>=1.15.0 in /home/ds/anaconda3/envs/spacy-gpu/lib/python3.7/site-packages (from spacy<3.3.0,>=3.2.0->en-core-web-sm==3.2.0) (1.21.4)\n",
      "Requirement already satisfied: typing-extensions<4.0.0.0,>=3.7.4 in /home/ds/anaconda3/envs/spacy-gpu/lib/python3.7/site-packages (from spacy<3.3.0,>=3.2.0->en-core-web-sm==3.2.0) (3.10.0.2)\n",
      "Requirement already satisfied: jinja2 in /home/ds/anaconda3/envs/spacy-gpu/lib/python3.7/site-packages (from spacy<3.3.0,>=3.2.0->en-core-web-sm==3.2.0) (3.0.3)\n",
      "Requirement already satisfied: requests<3.0.0,>=2.13.0 in /home/ds/.local/lib/python3.7/site-packages (from spacy<3.3.0,>=3.2.0->en-core-web-sm==3.2.0) (2.22.0)\n",
      "Requirement already satisfied: wasabi<1.1.0,>=0.8.1 in /home/ds/anaconda3/envs/spacy-gpu/lib/python3.7/site-packages (from spacy<3.3.0,>=3.2.0->en-core-web-sm==3.2.0) (0.9.0)\n",
      "Requirement already satisfied: thinc<8.1.0,>=8.0.12 in /home/ds/anaconda3/envs/spacy-gpu/lib/python3.7/site-packages (from spacy<3.3.0,>=3.2.0->en-core-web-sm==3.2.0) (8.0.13)\n",
      "Requirement already satisfied: preshed<3.1.0,>=3.0.2 in /home/ds/anaconda3/envs/spacy-gpu/lib/python3.7/site-packages (from spacy<3.3.0,>=3.2.0->en-core-web-sm==3.2.0) (3.0.6)\n",
      "Requirement already satisfied: pydantic!=1.8,!=1.8.1,<1.9.0,>=1.7.4 in /home/ds/anaconda3/envs/spacy-gpu/lib/python3.7/site-packages (from spacy<3.3.0,>=3.2.0->en-core-web-sm==3.2.0) (1.8.2)\n",
      "Requirement already satisfied: tqdm<5.0.0,>=4.38.0 in /home/ds/anaconda3/envs/spacy-gpu/lib/python3.7/site-packages (from spacy<3.3.0,>=3.2.0->en-core-web-sm==3.2.0) (4.62.3)\n",
      "Requirement already satisfied: pathy>=0.3.5 in /home/ds/anaconda3/envs/spacy-gpu/lib/python3.7/site-packages (from spacy<3.3.0,>=3.2.0->en-core-web-sm==3.2.0) (0.6.1)\n",
      "Requirement already satisfied: spacy-legacy<3.1.0,>=3.0.8 in /home/ds/anaconda3/envs/spacy-gpu/lib/python3.7/site-packages (from spacy<3.3.0,>=3.2.0->en-core-web-sm==3.2.0) (3.0.8)\n",
      "Requirement already satisfied: blis<0.8.0,>=0.4.0 in /home/ds/anaconda3/envs/spacy-gpu/lib/python3.7/site-packages (from spacy<3.3.0,>=3.2.0->en-core-web-sm==3.2.0) (0.7.5)\n",
      "Requirement already satisfied: cymem<2.1.0,>=2.0.2 in /home/ds/anaconda3/envs/spacy-gpu/lib/python3.7/site-packages (from spacy<3.3.0,>=3.2.0->en-core-web-sm==3.2.0) (2.0.6)\n",
      "Requirement already satisfied: typer<0.5.0,>=0.3.0 in /home/ds/anaconda3/envs/spacy-gpu/lib/python3.7/site-packages (from spacy<3.3.0,>=3.2.0->en-core-web-sm==3.2.0) (0.4.0)\n",
      "Requirement already satisfied: packaging>=20.0 in /home/ds/anaconda3/envs/spacy-gpu/lib/python3.7/site-packages (from spacy<3.3.0,>=3.2.0->en-core-web-sm==3.2.0) (21.3)\n",
      "Requirement already satisfied: spacy-loggers<2.0.0,>=1.0.0 in /home/ds/anaconda3/envs/spacy-gpu/lib/python3.7/site-packages (from spacy<3.3.0,>=3.2.0->en-core-web-sm==3.2.0) (1.0.1)\n",
      "Requirement already satisfied: srsly<3.0.0,>=2.4.1 in /home/ds/anaconda3/envs/spacy-gpu/lib/python3.7/site-packages (from spacy<3.3.0,>=3.2.0->en-core-web-sm==3.2.0) (2.4.2)\n",
      "Requirement already satisfied: murmurhash<1.1.0,>=0.28.0 in /home/ds/anaconda3/envs/spacy-gpu/lib/python3.7/site-packages (from spacy<3.3.0,>=3.2.0->en-core-web-sm==3.2.0) (1.0.6)\n",
      "Requirement already satisfied: zipp>=0.5 in /home/ds/anaconda3/envs/spacy-gpu/lib/python3.7/site-packages (from catalogue<2.1.0,>=2.0.6->spacy<3.3.0,>=3.2.0->en-core-web-sm==3.2.0) (3.6.0)\n",
      "Requirement already satisfied: pyparsing!=3.0.5,>=2.0.2 in /home/ds/anaconda3/envs/spacy-gpu/lib/python3.7/site-packages (from packaging>=20.0->spacy<3.3.0,>=3.2.0->en-core-web-sm==3.2.0) (3.0.6)\n",
      "Requirement already satisfied: smart-open<6.0.0,>=5.0.0 in /home/ds/anaconda3/envs/spacy-gpu/lib/python3.7/site-packages (from pathy>=0.3.5->spacy<3.3.0,>=3.2.0->en-core-web-sm==3.2.0) (5.2.1)\n",
      "Requirement already satisfied: urllib3!=1.25.0,!=1.25.1,<1.26,>=1.21.1 in /home/ds/.local/lib/python3.7/site-packages (from requests<3.0.0,>=2.13.0->spacy<3.3.0,>=3.2.0->en-core-web-sm==3.2.0) (1.25.3)\n",
      "Requirement already satisfied: certifi>=2017.4.17 in /home/ds/anaconda3/envs/spacy-gpu/lib/python3.7/site-packages (from requests<3.0.0,>=2.13.0->spacy<3.3.0,>=3.2.0->en-core-web-sm==3.2.0) (2021.10.8)\n",
      "Requirement already satisfied: idna<2.9,>=2.5 in /home/ds/.local/lib/python3.7/site-packages (from requests<3.0.0,>=2.13.0->spacy<3.3.0,>=3.2.0->en-core-web-sm==3.2.0) (2.8)\n",
      "Requirement already satisfied: chardet<3.1.0,>=3.0.2 in /home/ds/anaconda3/envs/spacy-gpu/lib/python3.7/site-packages (from requests<3.0.0,>=2.13.0->spacy<3.3.0,>=3.2.0->en-core-web-sm==3.2.0) (3.0.4)\n",
      "Requirement already satisfied: click<9.0.0,>=7.1.1 in /home/ds/anaconda3/envs/spacy-gpu/lib/python3.7/site-packages (from typer<0.5.0,>=0.3.0->spacy<3.3.0,>=3.2.0->en-core-web-sm==3.2.0) (8.0.3)\n",
      "Requirement already satisfied: MarkupSafe>=2.0 in /home/ds/anaconda3/envs/spacy-gpu/lib/python3.7/site-packages (from jinja2->spacy<3.3.0,>=3.2.0->en-core-web-sm==3.2.0) (2.0.1)\n",
      "Requirement already satisfied: importlib-metadata in /home/ds/anaconda3/envs/spacy-gpu/lib/python3.7/site-packages (from click<9.0.0,>=7.1.1->typer<0.5.0,>=0.3.0->spacy<3.3.0,>=3.2.0->en-core-web-sm==3.2.0) (4.8.2)\n",
      "\u001b[38;5;2m✔ Download and installation successful\u001b[0m\n",
      "You can now load the package via spacy.load('en_core_web_sm')\n"
     ]
    }
   ],
   "source": [
    "# Download the pretrained model\n",
    "!spacy project run download "
   ]
  },
  {
   "cell_type": "code",
   "execution_count": 50,
   "id": "13b56425",
   "metadata": {},
   "outputs": [
    {
     "name": "stdout",
     "output_type": "stream",
     "text": [
      "\u001b[38;5;4mℹ Fetching 1 asset(s)\u001b[0m\n",
      "\u001b[38;5;2m✔ Downloaded asset\n",
      "/home/ds/projects/course-materials/w2/practical-intro/ner_projects/ner_finetune/assets/litbank\u001b[0m\n"
     ]
    }
   ],
   "source": [
    "# Fetch the LitBank data\n",
    "!spacy project assets "
   ]
  },
  {
   "cell_type": "code",
   "execution_count": 51,
   "id": "bde179fa",
   "metadata": {},
   "outputs": [
    {
     "name": "stdout",
     "output_type": "stream",
     "text": [
      "\u001b[1m\n",
      "================================== convert ==================================\u001b[0m\n",
      "Running command: /home/ds/anaconda3/envs/spacy-gpu/bin/python scripts/convert.py en 0.2\n",
      "Created 80 training docs\n",
      "Created 20 validation docs\n"
     ]
    }
   ],
   "source": [
    "# Convert the LitBank data\n",
    "!spacy project run convert "
   ]
  },
  {
   "cell_type": "code",
   "execution_count": 52,
   "id": "160c5520",
   "metadata": {},
   "outputs": [
    {
     "name": "stdout",
     "output_type": "stream",
     "text": [
      "\u001b[1m\r\n",
      "=============================== create-config ===============================\u001b[0m\r\n",
      "\u001b[38;5;4mℹ Skipping 'create-config': nothing changed\u001b[0m\r\n"
     ]
    }
   ],
   "source": [
    "# create a config file using the create_config script\n",
    "!spacy project run create-config"
   ]
  },
  {
   "cell_type": "code",
   "execution_count": 53,
   "id": "2f222681",
   "metadata": {},
   "outputs": [
    {
     "name": "stdout",
     "output_type": "stream",
     "text": [
      "\u001b[1m\n",
      "=================================== train ===================================\u001b[0m\n",
      "Running command: /home/ds/anaconda3/envs/spacy-gpu/bin/python -m spacy train configs/config.cfg --output training/ --paths.train corpus/train.spacy --paths.dev corpus/dev.spacy --training.eval_frequency 10 --training.max_steps 500 --training.patience 50 --gpu-id -1\n",
      "\u001b[38;5;4mℹ Saving to output directory: training\u001b[0m\n",
      "\u001b[38;5;4mℹ Using CPU\u001b[0m\n",
      "\u001b[38;5;4mℹ To switch to GPU 0, use the option: --gpu-id 0\u001b[0m\n",
      "\u001b[1m\n",
      "=========================== Initializing pipeline ===========================\u001b[0m\n",
      "[2021-12-16 14:42:44,439] [INFO] Set up nlp object from config\n",
      "[2021-12-16 14:42:44,451] [INFO] Pipeline: ['tok2vec', 'tagger', 'parser', 'attribute_ruler', 'lemmatizer', 'ner']\n",
      "[2021-12-16 14:42:44,451] [INFO] Resuming training for: ['ner']\n",
      "[2021-12-16 14:42:44,463] [INFO] Copying tokenizer from: en_core_web_sm\n",
      "[2021-12-16 14:42:44,957] [INFO] Copying vocab from: en_core_web_sm\n",
      "[2021-12-16 14:42:45,071] [INFO] Created vocabulary\n",
      "[2021-12-16 14:42:45,072] [INFO] Finished initializing nlp object\n",
      "[2021-12-16 14:42:45,072] [INFO] Initialized pipeline components: []\n",
      "\u001b[38;5;2m✔ Initialized pipeline\u001b[0m\n",
      "\u001b[1m\n",
      "============================= Training pipeline =============================\u001b[0m\n",
      "\u001b[38;5;4mℹ Pipeline: ['tok2vec', 'tagger', 'parser', 'attribute_ruler',\n",
      "'lemmatizer', 'ner']\u001b[0m\n",
      "\u001b[38;5;4mℹ Frozen components: ['tok2vec', 'tagger', 'parser', 'senter',\n",
      "'attribute_ruler', 'lemmatizer']\u001b[0m\n",
      "\u001b[38;5;4mℹ Initial learn rate: 0.001\u001b[0m\n",
      "E    #       LOSS NER  TAG_ACC  DEP_UAS  DEP_LAS  SENTS_F  LEMMA_ACC  ENTS_F  ENTS_P  ENTS_R  SPEED   SCORE \n",
      "---  ------  --------  -------  -------  -------  -------  ---------  ------  ------  ------  ------  ------\n",
      "  0       0    645.68     0.00     0.00     0.00     0.00       0.00    4.07    7.53    2.79  9005.16    0.01\n",
      "  0      10   2812.46     0.00     0.00     0.00     0.00       0.00    5.34   17.82    3.14  11129.80    0.01\n",
      "  0      20   2234.14     0.00     0.00     0.00     0.00       0.00    4.78   33.91    2.57  11434.01    0.01\n",
      "  0      30   2853.34     0.00     0.00     0.00     0.00       0.00    4.26   51.52    2.22  11589.69    0.01\n",
      "  0      40   2121.70     0.00     0.00     0.00     0.00       0.00    7.28   50.85    3.92  11979.60    0.01\n",
      "  0      50   1987.88     0.00     0.00     0.00     0.00       0.00   11.36   59.75    6.27  11647.99    0.02\n",
      "  0      60   1919.85     0.00     0.00     0.00     0.00       0.00   20.96   52.91   13.07  11843.89    0.03\n",
      "  0      70   1714.07     0.00     0.00     0.00     0.00       0.00   28.14   58.97   18.47  12027.67    0.05\n",
      "  1      80   2093.15     0.00     0.00     0.00     0.00       0.00   34.03   57.65   24.14  11995.45    0.05\n",
      "  1      90   1668.06     0.00     0.00     0.00     0.00       0.00   33.92   58.55   23.88  11998.28    0.05\n",
      "  1     100   1625.04     0.00     0.00     0.00     0.00       0.00   35.76   61.40   25.23  12015.43    0.06\n",
      "  1     110   2202.76     0.00     0.00     0.00     0.00       0.00   40.21   54.77   31.76  11772.77    0.06\n",
      "  1     120   1547.64     0.00     0.00     0.00     0.00       0.00   41.25   56.57   32.46  11888.46    0.07\n",
      "  1     130   1582.84     0.00     0.00     0.00     0.00       0.00   43.57   59.35   34.42  12123.66    0.07\n",
      "  1     140   2282.64     0.00     0.00     0.00     0.00       0.00   45.23   58.96   36.69  12064.74    0.07\n",
      "  1     150   1690.95     0.00     0.00     0.00     0.00       0.00   45.29   62.78   35.42  11999.18    0.07\n",
      "  2     160   1374.69     0.00     0.00     0.00     0.00       0.00   45.97   63.07   36.17  11977.38    0.07\n",
      "  2     170   1624.78     0.00     0.00     0.00     0.00       0.00   49.08   63.49   40.00  12009.47    0.08\n",
      "  2     180   1487.57     0.00     0.00     0.00     0.00       0.00   49.50   63.25   40.65  12030.70    0.08\n",
      "  2     190   1201.11     0.00     0.00     0.00     0.00       0.00   50.26   62.95   41.83  12011.80    0.08\n",
      "  2     200   1250.63     0.00     0.00     0.00     0.00       0.00   50.89   62.31   43.01  12034.95    0.08\n",
      "  2     210   1371.97     0.00     0.00     0.00     0.00       0.00   51.91   62.48   44.40  12019.15    0.08\n",
      "  2     220   1199.53     0.00     0.00     0.00     0.00       0.00   52.42   62.34   45.23  11919.66    0.08\n",
      "  2     230   1135.68     0.00     0.00     0.00     0.00       0.00   52.95   62.75   45.80  11862.36    0.08\n",
      "  3     240   1145.06     0.00     0.00     0.00     0.00       0.00   53.76   63.89   46.41  11955.13    0.09\n",
      "  3     250    948.94     0.00     0.00     0.00     0.00       0.00   54.30   63.79   47.28  12050.67    0.09\n",
      "  3     260   1217.33     0.00     0.00     0.00     0.00       0.00   54.48   63.25   47.84  11993.60    0.09\n",
      "  3     270   1161.16     0.00     0.00     0.00     0.00       0.00   55.01   63.25   48.67  11968.76    0.09\n",
      "  3     280   1345.30     0.00     0.00     0.00     0.00       0.00   54.93   63.63   48.32  12050.65    0.09\n",
      "  3     290    983.32     0.00     0.00     0.00     0.00       0.00   55.29   64.21   48.54  12025.06    0.09\n",
      "  3     300   1008.84     0.00     0.00     0.00     0.00       0.00   55.70   63.90   49.37  11696.58    0.09\n",
      "  3     310   1185.02     0.00     0.00     0.00     0.00       0.00   55.79   63.98   49.46  12116.76    0.09\n",
      "  4     320    975.19     0.00     0.00     0.00     0.00       0.00   56.12   64.71   49.54  12140.70    0.09\n",
      "  4     330   1145.90     0.00     0.00     0.00     0.00       0.00   56.18   63.65   50.28  11991.61    0.09\n",
      "  4     340    924.07     0.00     0.00     0.00     0.00       0.00   56.03   63.54   50.11  11968.57    0.09\n",
      "  4     350    988.80     0.00     0.00     0.00     0.00       0.00   56.59   63.72   50.89  11696.43    0.09\n",
      "  4     360    919.57     0.00     0.00     0.00     0.00       0.00   57.10   63.93   51.59  11965.92    0.09\n",
      "  4     370    991.48     0.00     0.00     0.00     0.00       0.00   56.96   64.67   50.89  12162.88    0.09\n",
      "  4     380   1073.66     0.00     0.00     0.00     0.00       0.00   57.28   65.08   51.15  12094.65    0.09\n",
      "  4     390    950.38     0.00     0.00     0.00     0.00       0.00   57.10   64.75   51.07  11960.69    0.09\n",
      "  5     400   1083.74     0.00     0.00     0.00     0.00       0.00   57.06   64.51   51.15  11956.76    0.09\n",
      "  5     410    934.42     0.00     0.00     0.00     0.00       0.00   57.16   64.62   51.24  11783.76    0.09\n",
      "  5     420    794.41     0.00     0.00     0.00     0.00       0.00   57.50   64.86   51.63  11929.62    0.09\n",
      "  5     430    853.88     0.00     0.00     0.00     0.00       0.00   57.85   64.81   52.24  12071.99    0.09\n",
      "  5     440    623.52     0.00     0.00     0.00     0.00       0.00   58.25   65.33   52.55  12049.22    0.09\n",
      "  5     450   1155.06     0.00     0.00     0.00     0.00       0.00   57.89   64.69   52.37  11999.20    0.09\n",
      "  5     460    907.43     0.00     0.00     0.00     0.00       0.00   57.99   64.61   52.59  11920.85    0.09\n",
      "  5     470    903.31     0.00     0.00     0.00     0.00       0.00   57.89   64.64   52.42  12004.21    0.09\n",
      "  6     480    859.22     0.00     0.00     0.00     0.00       0.00   58.24   64.65   52.98  11900.82    0.09\n",
      "  6     490    791.11     0.00     0.00     0.00     0.00       0.00   58.33   64.75   53.07  12107.31    0.09\n",
      "  6     500    723.14     0.00     0.00     0.00     0.00       0.00   58.36   64.37   53.38  12145.82    0.09\n",
      "\u001b[38;5;2m✔ Saved pipeline to output directory\u001b[0m\n",
      "training/model-last\n"
     ]
    }
   ],
   "source": [
    "!spacy project run train"
   ]
  },
  {
   "cell_type": "code",
   "execution_count": null,
   "id": "1433256b",
   "metadata": {},
   "outputs": [],
   "source": [
    "# We can run spacy project run visualize-model from the terminal (not in Jupyter)"
   ]
  }
 ],
 "metadata": {
  "kernelspec": {
   "display_name": "Python 3 (ipykernel)",
   "language": "python",
   "name": "python3"
  },
  "language_info": {
   "codemirror_mode": {
    "name": "ipython",
    "version": 3
   },
   "file_extension": ".py",
   "mimetype": "text/x-python",
   "name": "python",
   "nbconvert_exporter": "python",
   "pygments_lexer": "ipython3",
   "version": "3.7.11"
  }
 },
 "nbformat": 4,
 "nbformat_minor": 5
}
