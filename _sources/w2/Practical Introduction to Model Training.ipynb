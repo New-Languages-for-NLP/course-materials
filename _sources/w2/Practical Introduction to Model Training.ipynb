{
 "cells": [
  {
   "cell_type": "markdown",
   "id": "5be942ff",
   "metadata": {},
   "source": [
    "### Outline\n",
    "- Project file that loads data from LitBank, texts from … AO3\n",
    "  - Goal is to use litbank data to train model to study fan fiction\n",
    "- Create train and validation sets\n",
    "- Identify entities in text using Matcher (note missed ents in val set, not learning, just matching)\n",
    "- Train NER from scratch using only language object\n",
    "- Train NER from scratch  for small en model  \n",
    "- Fine-tune existing NER pipeline\n",
    "- Assess results for various approaches \n",
    "- Where do we see improvement? When is the model sufficiently useful in research?\n"
   ]
  },
  {
   "cell_type": "code",
   "execution_count": 2,
   "id": "3812c646",
   "metadata": {},
   "outputs": [
    {
     "name": "stdout",
     "output_type": "stream",
     "text": [
      "Collecting ao3_api\n",
      "  Downloading ao3_api-2.2.0-py3-none-any.whl (40 kB)\n",
      "\u001b[K     |████████████████████████████████| 40 kB 1.2 MB/s eta 0:00:01\n",
      "\u001b[?25hCollecting BeautifulSoup4\n",
      "  Downloading beautifulsoup4-4.10.0-py3-none-any.whl (97 kB)\n",
      "\u001b[K     |████████████████████████████████| 97 kB 3.5 MB/s eta 0:00:01\n",
      "\u001b[?25hRequirement already satisfied: requests in /usr/lib/python3/dist-packages (from ao3_api) (2.22.0)\n",
      "Collecting lxml\n",
      "  Downloading lxml-4.6.5-cp38-cp38-manylinux_2_17_x86_64.manylinux2014_x86_64.manylinux_2_24_x86_64.whl (6.9 MB)\n",
      "\u001b[K     |████████████████████████████████| 6.9 MB 8.3 MB/s eta 0:00:01\n",
      "\u001b[?25hCollecting soupsieve>1.2\n",
      "  Downloading soupsieve-2.3.1-py3-none-any.whl (37 kB)\n",
      "Installing collected packages: soupsieve, BeautifulSoup4, lxml, ao3-api\n",
      "Successfully installed BeautifulSoup4-4.10.0 ao3-api-2.2.0 lxml-4.6.5 soupsieve-2.3.1\n"
     ]
    }
   ],
   "source": [
    "!pip install ao3_api\n",
    "\n",
    "!git clone https://github.com/dbamman/litbank.git"
   ]
  },
  {
   "cell_type": "code",
   "execution_count": 9,
   "id": "c69950e6",
   "metadata": {},
   "outputs": [
    {
     "name": "stdout",
     "output_type": "stream",
     "text": [
      "248\n",
      "<Work [Return to Moomin Valley]>\n",
      "<Work [A Stranger in Moomin Valley]>\n",
      "<Work [Christmas comes to Moomin Valley]>\n",
      "<Work [The Faint Ache of a Moomin Heart]>\n",
      "<Work [the care and feeding of your pet moomin]>\n",
      "<Work [boy you got my heartbeat drumming]>\n",
      "<Work [Life, Imitates]>\n",
      "<Work [Friendship is Magic]>\n",
      "<Work [My boyfriend who lives in canada]>\n",
      "<Work [be still my dead (beating) heart]>\n",
      "<Work [there is no me (without you)]>\n",
      "<Work [Possession]>\n",
      "<Work [You Bring Spring Right to my Door]>\n",
      "<Work [Lilacs Only Bloom In Spring and Sunflowers Can Only Face The Sun]>\n",
      "<Work [First Time For Everything]>\n",
      "<Work [A Silent Return]>\n",
      "<Work [Our Turn to Watch Over You]>\n",
      "<Work [Sounds of Laughter, Needn't be Heard, Loved Nonetheless]>\n",
      "<Work [Dizzy]>\n",
      "<Work [Formal Affair]>\n"
     ]
    }
   ],
   "source": [
    "import AO3 #docs https://ao3-api.readthedocs.io/\n",
    "\n",
    "search_query=\"Moomin\"\n",
    "\n",
    "search = AO3.Search(any_field=search_query, word_count=AO3.utils.Constraint(5000, 15000))\n",
    "search.update()\n",
    "print(search.total_results)\n",
    "for result in search.results:\n",
    "  print(result)"
   ]
  },
  {
   "cell_type": "code",
   "execution_count": null,
   "id": "81333da0",
   "metadata": {},
   "outputs": [],
   "source": []
  }
 ],
 "metadata": {
  "kernelspec": {
   "display_name": "Python 3 (ipykernel)",
   "language": "python",
   "name": "python3"
  },
  "language_info": {
   "codemirror_mode": {
    "name": "ipython",
    "version": 3
   },
   "file_extension": ".py",
   "mimetype": "text/x-python",
   "name": "python",
   "nbconvert_exporter": "python",
   "pygments_lexer": "ipython3",
   "version": "3.8.10"
  }
 },
 "nbformat": 4,
 "nbformat_minor": 5
}
