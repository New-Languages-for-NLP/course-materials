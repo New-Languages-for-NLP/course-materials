{
 "cells": [
  {
   "cell_type": "markdown",
   "id": "061ba15a",
   "metadata": {},
   "source": [
    "This notebook: \n",
    "- Loads project file from GitHub\n",
    "- Loads assets from GitHub repo\n",
    "- installs the custom language object \n",
    "- converts the training data to spaCy binary\n",
    "- configure the project.yml file \n",
    "- train the model \n",
    "- assess performance \n",
    "- package the model (or push to huggingface) \n"
   ]
  },
  {
   "cell_type": "code",
   "execution_count": 8,
   "id": "7c0bda8e",
   "metadata": {},
   "outputs": [
    {
     "name": "stdout",
     "output_type": "stream",
     "text": [
      "\r\n",
      "\u001b[38;5;1m✘ Can't clone project, directory already exists:\r\n",
      "/srv/projects/course-materials/w2/using-inception-data/newlang_project\u001b[0m\r\n",
      "\r\n"
     ]
    }
   ],
   "source": [
    "#TODO only works for public repos, otherwise it asks for username and password.  Just run in terminal?\n",
    "#TODO also assumes project.yml from GitHub, edit there? \n",
    "# Needs to work in Colab\n",
    "!python -m spacy project clone newlang_project --repo https://github.com/New-Languages-for-NLP/repo-template --branch main"
   ]
  },
  {
   "cell_type": "code",
   "execution_count": 19,
   "id": "c6d03a7b",
   "metadata": {},
   "outputs": [
    {
     "name": "stdout",
     "output_type": "stream",
     "text": [
      "\u001b[38;5;4mℹ Fetching 1 asset(s)\u001b[0m\n",
      "\u001b[38;5;2m✔ Downloaded asset\n",
      "/srv/projects/course-materials/w2/using-inception-data/newlang_project/assets/urban-giggle\u001b[0m\n"
     ]
    }
   ],
   "source": [
    "!python -m spacy project assets /srv/projects/course-materials/w2/using-inception-data/newlang_project"
   ]
  },
  {
   "cell_type": "code",
   "execution_count": 20,
   "id": "ba4aacf9",
   "metadata": {},
   "outputs": [
    {
     "name": "stdout",
     "output_type": "stream",
     "text": [
      "0_original_texts  2_new_language_object  4_trained_models  README.md\r\n",
      "1_lookups_data\t  3_inception_export\t LICENSE\r\n"
     ]
    }
   ],
   "source": [
    "!ls /srv/projects/course-materials/w2/using-inception-data/newlang_project/assets/urban-giggle"
   ]
  },
  {
   "cell_type": "code",
   "execution_count": 22,
   "id": "4dc13741",
   "metadata": {},
   "outputs": [
    {
     "name": "stdout",
     "output_type": "stream",
     "text": [
      "\u001b[1m\n",
      "================================== install ==================================\u001b[0m\n",
      "Running command: /srv/projects/course-materials/temp/venv/bin/python -m pip install -e assets/urban-giggle/2_new_language_object\n",
      "Obtaining file:///srv/projects/course-materials/w2/using-inception-data/newlang_project/assets/urban-giggle/2_new_language_object\n",
      "Installing collected packages: clara\n",
      "  Running setup.py develop for clara\n",
      "Successfully installed clara\n"
     ]
    }
   ],
   "source": [
    "# Install the custom language object from Cadet \n",
    "!python -m spacy project run install /srv/projects/course-materials/w2/using-inception-data/newlang_project"
   ]
  },
  {
   "cell_type": "code",
   "execution_count": 3,
   "id": "b2b653b8",
   "metadata": {},
   "outputs": [
    {
     "name": "stdout",
     "output_type": "stream",
     "text": [
      "Package            Version   Location                                                                                                        \r\n",
      "------------------ --------- ----------------------------------------------------------------------------------------------------------------\r\n",
      "blis               0.7.5     \r\n",
      "catalogue          2.0.6     \r\n",
      "certifi            2021.10.8 \r\n",
      "charset-normalizer 2.0.9     \r\n",
      "clara              0.0.0     /srv/projects/course-materials/w2/using-inception-data/newlang_project/assets/urban-giggle/2_new_language_object\r\n",
      "click              8.0.3     \r\n",
      "cymem              2.0.6     \r\n",
      "idna               3.3       \r\n",
      "Jinja2             3.0.3     \r\n",
      "langcodes          3.3.0     \r\n",
      "MarkupSafe         2.0.1     \r\n",
      "murmurhash         1.0.6     \r\n",
      "numpy              1.21.4    \r\n",
      "packaging          21.3      \r\n",
      "pathy              0.6.1     \r\n",
      "pip                20.0.2    \r\n",
      "pkg-resources      0.0.0     \r\n",
      "preshed            3.0.6     \r\n",
      "pydantic           1.8.2     \r\n",
      "pyparsing          3.0.6     \r\n",
      "PyYAML             6.0       \r\n",
      "requests           2.26.0    \r\n",
      "setuptools         44.0.0    \r\n",
      "smart-open         5.2.1     \r\n",
      "spacy              3.2.1     \r\n",
      "spacy-legacy       3.0.8     \r\n",
      "spacy-loggers      1.0.1     \r\n",
      "srsly              2.4.2     \r\n",
      "thinc              8.0.13    \r\n",
      "tqdm               4.62.3    \r\n",
      "typer              0.4.0     \r\n",
      "typing-extensions  4.0.1     \r\n",
      "urllib3            1.26.7    \r\n",
      "wasabi             0.9.0     \r\n"
     ]
    }
   ],
   "source": []
  },
  {
   "cell_type": "code",
   "execution_count": null,
   "id": "9519c858",
   "metadata": {},
   "outputs": [],
   "source": [
    "# Read data files, test/train split and convert to spaCy files"
   ]
  },
  {
   "cell_type": "code",
   "execution_count": null,
   "id": "4feefe6f",
   "metadata": {},
   "outputs": [],
   "source": [
    "# Debug the data "
   ]
  },
  {
   "cell_type": "code",
   "execution_count": null,
   "id": "38b490a4",
   "metadata": {},
   "outputs": [],
   "source": [
    "# train the model"
   ]
  },
  {
   "cell_type": "code",
   "execution_count": null,
   "id": "018362d8",
   "metadata": {},
   "outputs": [],
   "source": [
    "# Evaluate the model "
   ]
  },
  {
   "cell_type": "code",
   "execution_count": 4,
   "id": "a0ba9e5a",
   "metadata": {},
   "outputs": [],
   "source": [
    "# temp to clear project folder\n",
    "!rm -rf /srv/projects/course-materials/w2/using-inception-data/newlang_project"
   ]
  },
  {
   "cell_type": "code",
   "execution_count": 15,
   "id": "8e1d6f36",
   "metadata": {},
   "outputs": [
    {
     "data": {
      "text/plain": [
       "{'title': 'Train new language model from cadet and inception data',\n",
       " 'description': 'This project template lets you train a part-of-speech tagger, morphologizer and dependency parser from your cadet and inception data.',\n",
       " 'vars': {'config': 'config',\n",
       "  'lang': 'yo',\n",
       "  'treebank': 'yoruba',\n",
       "  'test_size': 0.4,\n",
       "  'random_state': 11,\n",
       "  'train_name': 'en_ewt-ud-train',\n",
       "  'dev_name': 'en_ewt-ud-dev',\n",
       "  'test_name': 'en_ewt-ud-test',\n",
       "  'package_name': 'new language',\n",
       "  'package_version': '0.0.0',\n",
       "  'gpu': -1},\n",
       " 'directories': ['assets',\n",
       "  'corpus',\n",
       "  'training',\n",
       "  'metrics',\n",
       "  'configs',\n",
       "  'packages'],\n",
       " 'assets': [{'dest': 'assets/${vars.treebank}',\n",
       "   'git': {'repo': 'https://github.com/New-Languages-for-NLP/${vars.treebank}',\n",
       "    'branch': 'main',\n",
       "    'path': ''}}],\n",
       " 'workflows': {'all': ['install',\n",
       "   'split',\n",
       "   'convert',\n",
       "   'debug',\n",
       "   'train',\n",
       "   'evaluate',\n",
       "   'package']},\n",
       " 'commands': [{'name': 'install',\n",
       "   'help': 'Install the new language object from Cadet',\n",
       "   'script': ['mkdir -p hello',\n",
       "    'pip install -e assets/${vars.treebank}/2_new_language_object'],\n",
       "   'deps': ['assets/${vars.treebank}/2_new_language_object']},\n",
       "  {'name': 'split',\n",
       "   'help': 'Split the data into test and train sets',\n",
       "   'script': 'python scripts/split.py ${vars.test_size} ${vars.random_state}',\n",
       "   'outputs': ['assets/test.conllu', 'assets/train.conllu']},\n",
       "  {'name': 'convert',\n",
       "   'help': \"Convert the data to spaCy's format\",\n",
       "   'script': ['mkdir -p corpus/${vars.treebank}',\n",
       "    'python -m spacy convert assets/train.conllu corpus/${vars.treebank}/ --converter conllu --n-sents 10 --merge-subtokens',\n",
       "    'python -m spacy convert assets/test.conllu corpus/${vars.treebank}/ --converter conllu --n-sents 10 --merge-subtokens',\n",
       "    'mv corpus/${vars.treebank}/${vars.train_name}.spacy corpus/${vars.treebank}/train.spacy',\n",
       "    'mv corpus/${vars.treebank}/${vars.test_name}.spacy corpus/${vars.treebank}/test.spacy'],\n",
       "   'deps': ['assets/${vars.treebank}/${vars.train_name}.conllu',\n",
       "    'assets/${vars.treebank}/${vars.test_name}.conllu'],\n",
       "   'outputs': ['corpus/${vars.treebank}/train.spacy',\n",
       "    'corpus/${vars.treebank}/test.spacy']},\n",
       "  {'name': 'debug',\n",
       "   'help': \"Assess data for training using spaCy's debug data\",\n",
       "   'script': ['python -m spacy --help']},\n",
       "  {'name': 'train',\n",
       "   'help': 'Train ${vars.treebank}',\n",
       "   'script': ['python -m spacy train configs/${vars.config}.cfg --output training/${vars.treebank} --gpu-id ${vars.gpu} --paths.train corpus/${vars.treebank}/train.spacy --paths.dev corpus/${vars.treebank}/dev.spacy --nlp.lang=${vars.lang}'],\n",
       "   'deps': ['corpus/${vars.treebank}/train.spacy',\n",
       "    'corpus/${vars.treebank}/dev.spacy',\n",
       "    'configs/${vars.config}.cfg'],\n",
       "   'outputs': ['training/${vars.treebank}/model-best']},\n",
       "  {'name': 'evaluate',\n",
       "   'help': 'Evaluate on the test data and save the metrics',\n",
       "   'script': ['python -m spacy evaluate ./training/${vars.treebank}/model-best ./corpus/${vars.treebank}/test.spacy --output ./metrics/${vars.treebank}.json --gpu-id ${vars.gpu}'],\n",
       "   'deps': ['training/${vars.treebank}/model-best',\n",
       "    'corpus/${vars.treebank}/test.spacy'],\n",
       "   'outputs': ['metrics/${vars.treebank}.json']},\n",
       "  {'name': 'package',\n",
       "   'help': 'Package the trained model so it can be installed',\n",
       "   'script': ['python -m spacy package training/${vars.treebank}/model-best packages --name ${vars.package_name} --version ${vars.package_version} --force'],\n",
       "   'deps': ['training/${vars.treebank}/model-best'],\n",
       "   'outputs_no_cache': ['packages/${vars.lang}_${vars.package_name}-${vars.package_version}/dist/en_${vars.package_name}-${vars.package_version}.tar.gz']},\n",
       "  {'name': 'clean',\n",
       "   'help': 'Remove intermediate files',\n",
       "   'script': ['rm -rf training/*', 'rm -rf metrics/*', 'rm -rf corpus/*']}]}"
      ]
     },
     "execution_count": 15,
     "metadata": {},
     "output_type": "execute_result"
    }
   ],
   "source": [
    "#debug yaml \n",
    "import srsly\n",
    "srsly.read_yaml(\"./newlang_project/project.yml\")"
   ]
  },
  {
   "cell_type": "code",
   "execution_count": null,
   "id": "6cbc6af9",
   "metadata": {},
   "outputs": [],
   "source": []
  }
 ],
 "metadata": {
  "kernelspec": {
   "display_name": "Python 3 (ipykernel)",
   "language": "python",
   "name": "python3"
  },
  "language_info": {
   "codemirror_mode": {
    "name": "ipython",
    "version": 3
   },
   "file_extension": ".py",
   "mimetype": "text/x-python",
   "name": "python",
   "nbconvert_exporter": "python",
   "pygments_lexer": "ipython3",
   "version": "3.8.10"
  }
 },
 "nbformat": 4,
 "nbformat_minor": 5
}
