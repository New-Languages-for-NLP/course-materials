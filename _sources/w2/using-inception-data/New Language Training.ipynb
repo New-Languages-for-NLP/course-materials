{
 "cells": [
  {
   "cell_type": "markdown",
   "id": "061ba15a",
   "metadata": {},
   "source": [
    "This notebook: \n",
    "- Loads project file from GitHub\n",
    "- Loads assets from GitHub repo\n",
    "- installs the custom language object \n",
    "- converts the training data to spaCy binary\n",
    "- configure the project.yml file \n",
    "- train the model \n",
    "- assess performance \n",
    "- package the model (or push to huggingface) \n"
   ]
  },
  {
   "cell_type": "code",
   "execution_count": 11,
   "id": "a0ba9e5a",
   "metadata": {},
   "outputs": [],
   "source": [
    "# temp to clear project folder\n",
    "!rm -rf /srv/projects/course-materials/w2/using-inception-data/newlang_project"
   ]
  },
  {
   "cell_type": "code",
   "execution_count": 12,
   "id": "7c0bda8e",
   "metadata": {},
   "outputs": [
    {
     "name": "stdout",
     "output_type": "stream",
     "text": [
      "\u001b[38;5;2m✔ Cloned 'newlang_project' from New-Languages-for-NLP/repo-template\u001b[0m\r\n",
      "/srv/projects/course-materials/w2/using-inception-data/newlang_project\r\n",
      "\u001b[38;5;2m✔ Your project is now ready!\u001b[0m\r\n",
      "To fetch the assets, run:\r\n",
      "python -m spacy project assets /srv/projects/course-materials/w2/using-inception-data/newlang_project\r\n"
     ]
    }
   ],
   "source": [
    "#TODO only works for public repos, otherwise it asks for username and password.  Just run in terminal?\n",
    "#TODO also assumes project.yml from GitHub, edit there? \n",
    "# Needs to work in Colab\n",
    "!python -m spacy project clone newlang_project --repo https://github.com/New-Languages-for-NLP/repo-template --branch main"
   ]
  },
  {
   "cell_type": "code",
   "execution_count": 36,
   "id": "c6d03a7b",
   "metadata": {},
   "outputs": [
    {
     "name": "stdout",
     "output_type": "stream",
     "text": [
      "\u001b[38;5;4mℹ Fetching 1 asset(s)\u001b[0m\n",
      "\u001b[38;5;2m✔ Downloaded asset\n",
      "/srv/projects/course-materials/w2/using-inception-data/newlang_project/assets/urban-giggle\u001b[0m\n"
     ]
    }
   ],
   "source": [
    "!python -m spacy project assets /srv/projects/course-materials/w2/using-inception-data/newlang_project"
   ]
  },
  {
   "cell_type": "code",
   "execution_count": 15,
   "id": "4dc13741",
   "metadata": {},
   "outputs": [
    {
     "name": "stdout",
     "output_type": "stream",
     "text": [
      "\u001b[1m\n",
      "================================== install ==================================\u001b[0m\n",
      "Running command: /srv/projects/course-materials/temp/venv/bin/python -m pip install -e assets/urban-giggle/2_new_language_object\n",
      "Obtaining file:///srv/projects/course-materials/w2/using-inception-data/newlang_project/assets/urban-giggle/2_new_language_object\n",
      "Installing collected packages: clara\n",
      "  Attempting uninstall: clara\n",
      "    Found existing installation: clara 0.0.0\n",
      "    Uninstalling clara-0.0.0:\n",
      "      Successfully uninstalled clara-0.0.0\n",
      "  Running setup.py develop for clara\n",
      "Successfully installed clara\n"
     ]
    }
   ],
   "source": [
    "# Install the custom language object from Cadet \n",
    "!python -m spacy project run install /srv/projects/course-materials/w2/using-inception-data/newlang_project"
   ]
  },
  {
   "cell_type": "code",
   "execution_count": 37,
   "id": "ba4aacf9",
   "metadata": {},
   "outputs": [
    {
     "name": "stdout",
     "output_type": "stream",
     "text": [
      "YorText2.conllu  YorText3.conllu\r\n"
     ]
    }
   ],
   "source": [
    "!ls /srv/projects/course-materials/w2/using-inception-data/newlang_project/assets/urban-giggle/3_inception_export/"
   ]
  },
  {
   "cell_type": "code",
   "execution_count": 38,
   "id": "5a4c9a13",
   "metadata": {},
   "outputs": [
    {
     "name": "stdout",
     "output_type": "stream",
     "text": [
      "\u001b[1m\n",
      "================================== convert ==================================\u001b[0m\n",
      "Running command: /srv/projects/course-materials/temp/venv/bin/python scripts/convert.py assets/urban-giggle/3_inception_export\n",
      "\u001b[38;5;4mℹ Grouping every 1 sentences into a document.\u001b[0m\n",
      "\u001b[38;5;3m⚠ To generate better training data, you may want to group sentences\n",
      "into documents with `-n 10`.\u001b[0m\n",
      "Traceback (most recent call last):\n",
      "  File \"/usr/lib/python3.8/runpy.py\", line 194, in _run_module_as_main\n",
      "    return _run_code(code, main_globals, None,\n",
      "  File \"/usr/lib/python3.8/runpy.py\", line 87, in _run_code\n",
      "    exec(code, run_globals)\n",
      "  File \"/srv/projects/course-materials/temp/venv/lib/python3.8/site-packages/spacy/__main__.py\", line 4, in <module>\n",
      "    setup_cli()\n",
      "  File \"/srv/projects/course-materials/temp/venv/lib/python3.8/site-packages/spacy/cli/_util.py\", line 71, in setup_cli\n",
      "    command(prog_name=COMMAND)\n",
      "  File \"/srv/projects/course-materials/temp/venv/lib/python3.8/site-packages/click/core.py\", line 1128, in __call__\n",
      "    return self.main(*args, **kwargs)\n",
      "  File \"/srv/projects/course-materials/temp/venv/lib/python3.8/site-packages/click/core.py\", line 1053, in main\n",
      "    rv = self.invoke(ctx)\n",
      "  File \"/srv/projects/course-materials/temp/venv/lib/python3.8/site-packages/click/core.py\", line 1659, in invoke\n",
      "    return _process_result(sub_ctx.command.invoke(sub_ctx))\n",
      "  File \"/srv/projects/course-materials/temp/venv/lib/python3.8/site-packages/click/core.py\", line 1395, in invoke\n",
      "    return ctx.invoke(self.callback, **ctx.params)\n",
      "  File \"/srv/projects/course-materials/temp/venv/lib/python3.8/site-packages/click/core.py\", line 754, in invoke\n",
      "    return __callback(*args, **kwargs)\n",
      "  File \"/srv/projects/course-materials/temp/venv/lib/python3.8/site-packages/typer/main.py\", line 500, in wrapper\n",
      "    return callback(**use_params)  # type: ignore\n",
      "  File \"/srv/projects/course-materials/temp/venv/lib/python3.8/site-packages/spacy/cli/convert.py\", line 75, in convert_cli\n",
      "    convert(\n",
      "  File \"/srv/projects/course-materials/temp/venv/lib/python3.8/site-packages/spacy/cli/convert.py\", line 140, in convert\n",
      "    db = DocBin(docs=docs, store_user_data=True)\n",
      "  File \"/srv/projects/course-materials/temp/venv/lib/python3.8/site-packages/spacy/tokens/_serialize.py\", line 86, in __init__\n",
      "    for doc in docs:\n",
      "  File \"/srv/projects/course-materials/temp/venv/lib/python3.8/site-packages/spacy/training/converters/conllu_to_docs.py\", line 38, in conllu_to_docs\n",
      "    for sent_doc in sent_docs:\n",
      "  File \"/srv/projects/course-materials/temp/venv/lib/python3.8/site-packages/spacy/training/converters/conllu_to_docs.py\", line 79, in read_conllx\n",
      "    doc = conllu_sentence_to_doc(\n",
      "  File \"/srv/projects/course-materials/temp/venv/lib/python3.8/site-packages/spacy/training/converters/conllu_to_docs.py\", line 200, in conllu_sentence_to_doc\n",
      "    doc = Doc(\n",
      "  File \"spacy/tokens/doc.pyx\", line 296, in spacy.tokens.doc.Doc.__init__\n",
      "ValueError: [E1021] `pos` value \"_\" is not a valid Universal Dependencies tag. Non-UD tags should use the `tag` property.\n",
      "\u001b[38;5;4mℹ Grouping every 1 sentences into a document.\u001b[0m\n",
      "\u001b[38;5;3m⚠ To generate better training data, you may want to group sentences\n",
      "into documents with `-n 10`.\u001b[0m\n",
      "Traceback (most recent call last):\n",
      "  File \"/usr/lib/python3.8/runpy.py\", line 194, in _run_module_as_main\n",
      "    return _run_code(code, main_globals, None,\n",
      "  File \"/usr/lib/python3.8/runpy.py\", line 87, in _run_code\n",
      "    exec(code, run_globals)\n",
      "  File \"/srv/projects/course-materials/temp/venv/lib/python3.8/site-packages/spacy/__main__.py\", line 4, in <module>\n",
      "    setup_cli()\n",
      "  File \"/srv/projects/course-materials/temp/venv/lib/python3.8/site-packages/spacy/cli/_util.py\", line 71, in setup_cli\n",
      "    command(prog_name=COMMAND)\n",
      "  File \"/srv/projects/course-materials/temp/venv/lib/python3.8/site-packages/click/core.py\", line 1128, in __call__\n",
      "    return self.main(*args, **kwargs)\n",
      "  File \"/srv/projects/course-materials/temp/venv/lib/python3.8/site-packages/click/core.py\", line 1053, in main\n",
      "    rv = self.invoke(ctx)\n",
      "  File \"/srv/projects/course-materials/temp/venv/lib/python3.8/site-packages/click/core.py\", line 1659, in invoke\n",
      "    return _process_result(sub_ctx.command.invoke(sub_ctx))\n",
      "  File \"/srv/projects/course-materials/temp/venv/lib/python3.8/site-packages/click/core.py\", line 1395, in invoke\n",
      "    return ctx.invoke(self.callback, **ctx.params)\n",
      "  File \"/srv/projects/course-materials/temp/venv/lib/python3.8/site-packages/click/core.py\", line 754, in invoke\n",
      "    return __callback(*args, **kwargs)\n",
      "  File \"/srv/projects/course-materials/temp/venv/lib/python3.8/site-packages/typer/main.py\", line 500, in wrapper\n",
      "    return callback(**use_params)  # type: ignore\n",
      "  File \"/srv/projects/course-materials/temp/venv/lib/python3.8/site-packages/spacy/cli/convert.py\", line 75, in convert_cli\n",
      "    convert(\n",
      "  File \"/srv/projects/course-materials/temp/venv/lib/python3.8/site-packages/spacy/cli/convert.py\", line 140, in convert\n",
      "    db = DocBin(docs=docs, store_user_data=True)\n",
      "  File \"/srv/projects/course-materials/temp/venv/lib/python3.8/site-packages/spacy/tokens/_serialize.py\", line 86, in __init__\n",
      "    for doc in docs:\n",
      "  File \"/srv/projects/course-materials/temp/venv/lib/python3.8/site-packages/spacy/training/converters/conllu_to_docs.py\", line 38, in conllu_to_docs\n",
      "    for sent_doc in sent_docs:\n",
      "  File \"/srv/projects/course-materials/temp/venv/lib/python3.8/site-packages/spacy/training/converters/conllu_to_docs.py\", line 79, in read_conllx\n",
      "    doc = conllu_sentence_to_doc(\n",
      "  File \"/srv/projects/course-materials/temp/venv/lib/python3.8/site-packages/spacy/training/converters/conllu_to_docs.py\", line 200, in conllu_sentence_to_doc\n",
      "    doc = Doc(\n",
      "  File \"spacy/tokens/doc.pyx\", line 296, in spacy.tokens.doc.Doc.__init__\n",
      "ValueError: [E1021] `pos` value \"_\" is not a valid Universal Dependencies tag. Non-UD tags should use the `tag` property.\n"
     ]
    }
   ],
   "source": [
    "!python -m spacy project run convert /srv/projects/course-materials/w2/using-inception-data/newlang_project -F"
   ]
  },
  {
   "cell_type": "code",
   "execution_count": 18,
   "id": "9519c858",
   "metadata": {},
   "outputs": [
    {
     "name": "stdout",
     "output_type": "stream",
     "text": [
      "\u001b[1m\n",
      "=================================== split ===================================\u001b[0m\n",
      "Running command: /srv/projects/course-materials/temp/venv/bin/python scripts/split.py assets/urban-giggle/3_inception_export 0.4 11\n",
      "[PosixPath('/srv/projects/course-materials/w2/using-inception-data/newlang_project/assets/urban-giggle/3_inception_export/YorText2.conllu'), PosixPath('/srv/projects/course-materials/w2/using-inception-data/newlang_project/assets/urban-giggle/3_inception_export/YorText3.conllu')]\n"
     ]
    }
   ],
   "source": [
    "# Read data files, convert to spaCy files\n",
    "# test/train split \n",
    "!python -m spacy project run split /srv/projects/course-materials/w2/using-inception-data/newlang_project -F"
   ]
  },
  {
   "cell_type": "code",
   "execution_count": null,
   "id": "4feefe6f",
   "metadata": {},
   "outputs": [],
   "source": [
    "# Debug the data "
   ]
  },
  {
   "cell_type": "code",
   "execution_count": null,
   "id": "38b490a4",
   "metadata": {},
   "outputs": [],
   "source": [
    "# train the model"
   ]
  },
  {
   "cell_type": "code",
   "execution_count": null,
   "id": "018362d8",
   "metadata": {},
   "outputs": [],
   "source": [
    "# Evaluate the model "
   ]
  },
  {
   "cell_type": "code",
   "execution_count": 15,
   "id": "8e1d6f36",
   "metadata": {},
   "outputs": [
    {
     "data": {
      "text/plain": [
       "{'title': 'Train new language model from cadet and inception data',\n",
       " 'description': 'This project template lets you train a part-of-speech tagger, morphologizer and dependency parser from your cadet and inception data.',\n",
       " 'vars': {'config': 'config',\n",
       "  'lang': 'yo',\n",
       "  'treebank': 'yoruba',\n",
       "  'test_size': 0.4,\n",
       "  'random_state': 11,\n",
       "  'train_name': 'en_ewt-ud-train',\n",
       "  'dev_name': 'en_ewt-ud-dev',\n",
       "  'test_name': 'en_ewt-ud-test',\n",
       "  'package_name': 'new language',\n",
       "  'package_version': '0.0.0',\n",
       "  'gpu': -1},\n",
       " 'directories': ['assets',\n",
       "  'corpus',\n",
       "  'training',\n",
       "  'metrics',\n",
       "  'configs',\n",
       "  'packages'],\n",
       " 'assets': [{'dest': 'assets/${vars.treebank}',\n",
       "   'git': {'repo': 'https://github.com/New-Languages-for-NLP/${vars.treebank}',\n",
       "    'branch': 'main',\n",
       "    'path': ''}}],\n",
       " 'workflows': {'all': ['install',\n",
       "   'split',\n",
       "   'convert',\n",
       "   'debug',\n",
       "   'train',\n",
       "   'evaluate',\n",
       "   'package']},\n",
       " 'commands': [{'name': 'install',\n",
       "   'help': 'Install the new language object from Cadet',\n",
       "   'script': ['mkdir -p hello',\n",
       "    'pip install -e assets/${vars.treebank}/2_new_language_object'],\n",
       "   'deps': ['assets/${vars.treebank}/2_new_language_object']},\n",
       "  {'name': 'split',\n",
       "   'help': 'Split the data into test and train sets',\n",
       "   'script': 'python scripts/split.py ${vars.test_size} ${vars.random_state}',\n",
       "   'outputs': ['assets/test.conllu', 'assets/train.conllu']},\n",
       "  {'name': 'convert',\n",
       "   'help': \"Convert the data to spaCy's format\",\n",
       "   'script': ['mkdir -p corpus/${vars.treebank}',\n",
       "    'python -m spacy convert assets/train.conllu corpus/${vars.treebank}/ --converter conllu --n-sents 10 --merge-subtokens',\n",
       "    'python -m spacy convert assets/test.conllu corpus/${vars.treebank}/ --converter conllu --n-sents 10 --merge-subtokens',\n",
       "    'mv corpus/${vars.treebank}/${vars.train_name}.spacy corpus/${vars.treebank}/train.spacy',\n",
       "    'mv corpus/${vars.treebank}/${vars.test_name}.spacy corpus/${vars.treebank}/test.spacy'],\n",
       "   'deps': ['assets/${vars.treebank}/${vars.train_name}.conllu',\n",
       "    'assets/${vars.treebank}/${vars.test_name}.conllu'],\n",
       "   'outputs': ['corpus/${vars.treebank}/train.spacy',\n",
       "    'corpus/${vars.treebank}/test.spacy']},\n",
       "  {'name': 'debug',\n",
       "   'help': \"Assess data for training using spaCy's debug data\",\n",
       "   'script': ['python -m spacy --help']},\n",
       "  {'name': 'train',\n",
       "   'help': 'Train ${vars.treebank}',\n",
       "   'script': ['python -m spacy train configs/${vars.config}.cfg --output training/${vars.treebank} --gpu-id ${vars.gpu} --paths.train corpus/${vars.treebank}/train.spacy --paths.dev corpus/${vars.treebank}/dev.spacy --nlp.lang=${vars.lang}'],\n",
       "   'deps': ['corpus/${vars.treebank}/train.spacy',\n",
       "    'corpus/${vars.treebank}/dev.spacy',\n",
       "    'configs/${vars.config}.cfg'],\n",
       "   'outputs': ['training/${vars.treebank}/model-best']},\n",
       "  {'name': 'evaluate',\n",
       "   'help': 'Evaluate on the test data and save the metrics',\n",
       "   'script': ['python -m spacy evaluate ./training/${vars.treebank}/model-best ./corpus/${vars.treebank}/test.spacy --output ./metrics/${vars.treebank}.json --gpu-id ${vars.gpu}'],\n",
       "   'deps': ['training/${vars.treebank}/model-best',\n",
       "    'corpus/${vars.treebank}/test.spacy'],\n",
       "   'outputs': ['metrics/${vars.treebank}.json']},\n",
       "  {'name': 'package',\n",
       "   'help': 'Package the trained model so it can be installed',\n",
       "   'script': ['python -m spacy package training/${vars.treebank}/model-best packages --name ${vars.package_name} --version ${vars.package_version} --force'],\n",
       "   'deps': ['training/${vars.treebank}/model-best'],\n",
       "   'outputs_no_cache': ['packages/${vars.lang}_${vars.package_name}-${vars.package_version}/dist/en_${vars.package_name}-${vars.package_version}.tar.gz']},\n",
       "  {'name': 'clean',\n",
       "   'help': 'Remove intermediate files',\n",
       "   'script': ['rm -rf training/*', 'rm -rf metrics/*', 'rm -rf corpus/*']}]}"
      ]
     },
     "execution_count": 15,
     "metadata": {},
     "output_type": "execute_result"
    }
   ],
   "source": [
    "#debug yaml \n",
    "import srsly\n",
    "srsly.read_yaml(\"./newlang_project/project.yml\")"
   ]
  },
  {
   "cell_type": "code",
   "execution_count": null,
   "id": "b302638b",
   "metadata": {},
   "outputs": [],
   "source": []
  }
 ],
 "metadata": {
  "kernelspec": {
   "display_name": "Python 3 (ipykernel)",
   "language": "python",
   "name": "python3"
  },
  "language_info": {
   "codemirror_mode": {
    "name": "ipython",
    "version": 3
   },
   "file_extension": ".py",
   "mimetype": "text/x-python",
   "name": "python",
   "nbconvert_exporter": "python",
   "pygments_lexer": "ipython3",
   "version": "3.8.10"
  }
 },
 "nbformat": 4,
 "nbformat_minor": 5
}
